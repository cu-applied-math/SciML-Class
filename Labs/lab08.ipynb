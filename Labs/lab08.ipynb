{
  "nbformat": 4,
  "nbformat_minor": 0,
  "metadata": {
    "colab": {
      "provenance": [],
      "authorship_tag": "ABX9TyNJJm/TJmSCLGnLF6DOfFBn",
      "include_colab_link": true
    },
    "kernelspec": {
      "name": "python3",
      "display_name": "Python 3"
    },
    "language_info": {
      "name": "python"
    }
  },
  "cells": [
    {
      "cell_type": "markdown",
      "metadata": {
        "id": "view-in-github",
        "colab_type": "text"
      },
      "source": [
        "<a href=\"https://colab.research.google.com/github/cu-applied-math/SciML-Class/blob/main/Labs/lab08.ipynb\" target=\"_parent\"><img src=\"https://colab.research.google.com/assets/colab-badge.svg\" alt=\"Open In Colab\"/></a>"
      ]
    },
    {
      "cell_type": "code",
      "execution_count": null,
      "metadata": {
        "id": "1szWZLEavq2-"
      },
      "outputs": [],
      "source": [
        "import numpy as np\n",
        "from matplotlib import pyplot as plt\n",
        "from scipy.integrate import solve_ivp\n",
        "import scipy.optimize as opt"
      ]
    },
    {
      "cell_type": "markdown",
      "source": [
        "# Lab 8\n",
        "\n",
        "We'll consider the [logistic equation](https://en.wikipedia.org/wiki/Logistic_function#In_ecology:_modeling_population_growth) for describing popluation growth.\n",
        "$y(t)$ represents the population at time $t$, and satisifies the equation\n",
        "$$dy/dt = \\theta y \\left( 1 - \\frac{y}{k} \\right)$$\n",
        "where $\\theta$ is the **growth rate** (often referred to as \"r\" but we'll use $\\theta$ to match other conventions), and $k$ is a carrying capacity of the population.\n",
        "\n",
        "This is a very simple first-order ODE, covered in any good undergrad ODE class, and has a closed-form solution,\n",
        "$$y(t) = \\frac{k}{ 1 + \\frac{k-y_0}{y_0}e^{-\\theta t}}$$\n",
        "if $y(0) = y_0$ is the initial condition.\n",
        "\n",
        "**Motivation for our lab**\n",
        "We're observing a population of organisms and we know they evolve according to the logistic equation, and we know that they have a given carrying capacity of $k=10$.  We observe two data points:\n",
        "\n",
        "| time | |  population |\n",
        "| :--- | --- | :--- |\n",
        "| $t_0$ |0 | $y_0=1$ |\n",
        "| $t_1$| 2 | $y_1 = 7$ |\n",
        "\n",
        "and our scientific question is, **what was the growth rate $\\theta$**?\n",
        "\n",
        "Our lab is divided into several parts:\n",
        "- Part 1: familiarity with scipy's ODE solver\n",
        "  - This should be quick\n",
        "- Part 2 and 3a: work things out by hand\n",
        "  - This should be pen-and-paper, and should also be fairly quick\n",
        "- Part 3b: adjoint state method\n",
        "  - This may take longer. This is the heart of the lab\n",
        "- Part 4: root-finding\n",
        "  - This is \"extra\". Only do this if you finish part 3b\n",
        "\n",
        "**What to turn in for credit?**\n",
        "- If you were in class for the lab, just turn in the plots from parts 1a and 1b\n",
        "- If you were not in class during the lab day, then please spend 50 minutes on the lab and turn in your complete ipynb file (exported to PDF) showing your work up to at least question 3b. You can use the lab solutions but your notebook should not be identical to the solutions."
      ],
      "metadata": {
        "id": "wzNpqattv0A4"
      }
    },
    {
      "cell_type": "markdown",
      "source": [
        "## Part 1a: solve with an ODE solver\n",
        "We want to plot the function and see what it looks like. Let's solve it with `scipy.integrate.solve_ivp` ([documentation](https://docs.scipy.org/doc/scipy/reference/generated/scipy.integrate.solve_ivp.html)), starting at $t=0$ with a value of $y_0 = 1$, and using $k=10$. Solve until $t=5$ using $\\theta=3$ as our \"guess\" for the growth rate for now."
      ],
      "metadata": {
        "id": "lObvKn5awxug"
      }
    },
    {
      "cell_type": "code",
      "source": [
        "k = 10\n",
        "\n",
        "def f(t,y,theta):\n",
        "    \"\"\" Logistic equation right-hand-side\n",
        "    dy/dt = theta y (1-y/k),  y(t) is the population, theta is growth rate parameter, k is karrying kapacity\n",
        "    \"\"\"\n",
        "    raise NotImplementedError()  # You should implement this\n",
        "\n",
        "y0 = 1.\n",
        "T  = 5\n",
        "t_span = (0,T)\n",
        "theta = 3\n",
        "\n",
        "soln = solve_ivp(f,t_span, [y0], dense_output=True, args=(theta,))\n",
        "\n",
        "tGrid = np.linspace( 0, T, num=100 )\n",
        "t1 = 2.\n",
        "y1 = 7.\n",
        "plt.plot( tGrid, soln['sol']( tGrid ).flatten() )\n",
        "plt.plot( [0,T], [y1,y1], 'k:' )\n",
        "plt.plot( [t1,t1], [0,k], 'k--' )\n",
        "plt.xlabel('time')\n",
        "plt.title(f'theta is {theta}')\n",
        "plt.show()"
      ],
      "metadata": {
        "id": "aEijtfCnwR6z"
      },
      "execution_count": null,
      "outputs": []
    },
    {
      "cell_type": "markdown",
      "source": [
        "## Part 1b: solve backward with an ODE solver\n",
        "\n",
        "Using the final condition from part 1a (i.e., the value of $y$ at $T=5$), use the ODE solver to solve the same ODE still on the interval $[0,T]$ except give it the \"final condition\" rather than the initial condition.\n",
        "\n",
        "Plot both forward and backward solutions and verify they are about the same.  *Tip: you may want to adjust `atol` and/or `rtol` in the ODE solver to get increased accuracy*\n",
        "\n",
        "**Turn in this plot (to Canvas) with forward and backward solutions** to get credit for the lab"
      ],
      "metadata": {
        "id": "WeS3igPeYLXw"
      }
    },
    {
      "cell_type": "code",
      "source": [
        "# ... todo ..."
      ],
      "metadata": {
        "id": "xvpDlPYxYlhC"
      },
      "execution_count": null,
      "outputs": []
    },
    {
      "cell_type": "markdown",
      "source": [
        "## Part 2: find the right answer\n",
        "\n",
        "Solving problems is always easier if you know the answer before you start.  In our case, we want to know what $\\theta$ is. Because we have a closed-form solution for the ODE solution $y$, you can work this out by hand.\n",
        "\n",
        "What is the correct value of $\\theta$ that generates the observed data?"
      ],
      "metadata": {
        "id": "88KALXWLY1n-"
      }
    },
    {
      "cell_type": "code",
      "source": [
        "# ... todo, analytic calculation ..."
      ],
      "metadata": {
        "id": "dLHpJBn-ZHR1"
      },
      "execution_count": null,
      "outputs": []
    },
    {
      "cell_type": "markdown",
      "source": [
        "## Part 3a: find the derivative \"by hand\"\n",
        "\n",
        "Let our loss function be $\\ell(\\theta) = y(t_1)$, i.e., our \"loss\" $L$ as a function of $y(t_1)$ is simply the identity map.   We want $\\frac{d\\ell}{d\\theta}$\n",
        "\n",
        "(Why do we want this? Because then we could do root-finding on $\\ell(\\theta) = y_1$ and use Newton's method)\n",
        "\n",
        "- Work out what $\\frac{d\\ell}{d\\theta}$ is by hand (since we have the analytic form of $y$)."
      ],
      "metadata": {
        "id": "n8hA4Sx4ZL31"
      }
    },
    {
      "cell_type": "code",
      "source": [
        "# ... todo, analytic calculation ..."
      ],
      "metadata": {
        "id": "2lF1hCNMZ3br"
      },
      "execution_count": null,
      "outputs": []
    },
    {
      "cell_type": "markdown",
      "source": [
        "## Part 3b: find the derivative via the adjoint state method\n",
        "\n",
        "For more complicated ODEs without closed-form solutions, we may not be able to find the derivative \"by hand\", so we could use the adjoint state method.  \n",
        "\n",
        "The point of today's lab is to practice that.\n",
        "\n",
        "Below is the full adjoint sensitivities \"Algorithm 2\" from Appendix C from [Neural Ordinary Differential Equations](https://arxiv.org/abs/1806.07366) by Chen, Rubanova, Bettencourt and Duvenaud (NeurIPS 2018), converted to our notation ($y$ instead of $z$) and ignoring irrelevant features:\n",
        "\n",
        "- Input dynamics parameters $\\theta$, start time $t_0$, stop time $t_1$, final state $y(t_1)$, loss gradient $\\frac{\\partial L}{\\partial y(t_1)}$\n",
        "- Define initial augmented state $s_0 = [y(t_1)), \\frac{\\partial L}{\\partial y(t_1)}, 0]$\n",
        "  - The augmented variable is $s=[y,a^{(y)}, a^{(\\theta)}]$ and $a$ are the adjoint quantities, $a^{(y)}(t) = \\frac{dL}{dy(t)}$ and $a^{(\\theta)} = \\frac{dL}{d\\theta}$\n",
        "  - Our goal is to find $a^{(\\theta)}$, e.g., at $t=t_0$, since $\\theta$ is constant\n",
        "  - define the fuction `augmented_dynamics`$(t,s,\\theta)$\n",
        "    - $s=[y,a^{(y)}, a^{(\\theta)}]$\n",
        "    - return $\\frac{ds}{dt} = f(y(t), t, \\theta), -a^{(y)}(t) \\frac{\\partial f}{\\partial y}, -a^{(y)}(t) \\frac{\\partial f}{\\partial \\theta}]$\n",
        "  - call `ODE_solver`$(s_0,$ `augmented_dynamics`$, t_1,t_0, \\theta)$\n",
        "\n",
        "\n",
        "Your **task** is to define appropriate dynamics and initial states to pass in to the ODE solver and solve, and then extracting the derviative. You can check with the results from part 3a"
      ],
      "metadata": {
        "id": "ihVrNWcTZ866"
      }
    },
    {
      "cell_type": "code",
      "source": [
        "# ... todo ..."
      ],
      "metadata": {
        "id": "pgHEDk_YZ8F3"
      },
      "execution_count": null,
      "outputs": []
    },
    {
      "cell_type": "markdown",
      "source": [
        "## Part 4: root-finding to find $\\theta$\n",
        "\n",
        "### Part 4a: derivative-free method\n",
        "Our unknown parameter $\\theta$ is 1D, and 1D root-finding is fairly easy, even if we do not know the derivative.  Our rules-of-thumb from earlier labs is that not knowing the derivative for optimization problems is not a big deal in small dimensions, and a similar rule-of-thumb applies for root finding.\n",
        "\n",
        "So, using a `scipy.optimize` [scalar root-finding](https://docs.scipy.org/doc/scipy/reference/optimize.html#scalar-functions) algorithm that doesn't require a derivative.\n",
        "- You could do brute-force (grid search) which isn't so bad in 1D\n",
        "- You can do bisection methods, or fancier variants in the `scipy.optimize` library (`root_scalar`, `brentq`, `brenth`, `bisect`, etc.).\n",
        "\n",
        "### Part 4b: root-finding with Newton (aka Newton-Raphson)\n",
        "Since we do have the derivative information (either via the adjoint-state method or using your analytic calculation), we can use Newton-Raphson (also implemented in `scipy.optimize` as `newton`).  So **use Newton-Raphson** to find $\\theta$.\n",
        "\n",
        "Note: In 1D, the main advantage of Newton-Raphson compared to bisection or other derivative-free methods is that it quickly gives you extremely high accuracy.  \n",
        "- You may not always need extremely high accuracy\n",
        "- The accuracy might be limited by the accuracy of your function evaluation or derivative evaluation, i.e., the accuracy of the ODE solve. If we don't solve the ODE to more than 6 digits, we shouldn't expect to find $\\theta$ to 10 digits..."
      ],
      "metadata": {
        "id": "3Cxd35jJa6vL"
      }
    },
    {
      "cell_type": "code",
      "source": [
        "# ... todo, use (4a) a derivative-free method, and then (4b) Newton-Raphson"
      ],
      "metadata": {
        "id": "UfBidr8PcchC"
      },
      "execution_count": null,
      "outputs": []
    },
    {
      "cell_type": "code",
      "source": [],
      "metadata": {
        "id": "4w9gMApZcjFJ"
      },
      "execution_count": null,
      "outputs": []
    }
  ]
}
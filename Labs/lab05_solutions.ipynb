{
  "nbformat": 4,
  "nbformat_minor": 0,
  "metadata": {
    "colab": {
      "provenance": [],
      "authorship_tag": "ABX9TyOachniBBMMLv/qS+1Qx/rh",
      "include_colab_link": true
    },
    "kernelspec": {
      "name": "python3",
      "display_name": "Python 3"
    },
    "language_info": {
      "name": "python"
    }
  },
  "cells": [
    {
      "cell_type": "markdown",
      "metadata": {
        "id": "view-in-github",
        "colab_type": "text"
      },
      "source": [
        "<a href=\"https://colab.research.google.com/github/cu-applied-math/SciML-Class/blob/lab_solutions/Labs/lab05_solutions.ipynb\" target=\"_parent\"><img src=\"https://colab.research.google.com/assets/colab-badge.svg\" alt=\"Open In Colab\"/></a>"
      ]
    },
    {
      "cell_type": "code",
      "execution_count": 193,
      "metadata": {
        "id": "_XJVt6Lu1L8E"
      },
      "outputs": [],
      "source": [
        "import numpy as np"
      ]
    },
    {
      "cell_type": "markdown",
      "source": [
        "Two-sided [Hoeffding inequality](https://en.wikipedia.org/wiki/Hoeffding%27s_inequality#Special_Case:_Bernoulli_RVs) for Bernoulli r.v.\n",
        "$$\n",
        "\\mathbb{P}\\left[\\left| \\frac{1}{n}S_n - \\mu  \\right| \\ge t\\right] \\le 2 \\exp\\left( -2nt^2\\right)\n",
        "$$\n",
        "or equivalently\n",
        "$$\n",
        "\\mathbb{P}\\left[ \\left| \\frac{1}{n}S_n - \\mu  \\right| < t\\right] > 1- 2 \\exp\\left( -2nt^2\\right)\n",
        "$$\n",
        "where $S_n=X_1+X_2+\\ldots+X_n$ is the sum of $n$ **independent** Bernoulli random variables.  \n",
        "\n",
        "## Part 1\n",
        "Let $\\mu$ be the true risk of a binary classifier $f$ (using the 0-1 loss $\\ell$), and suppose we have $n$ independent samples (that are also independent of $f$), and let $\\frac{1}{n}S_n$ be the empirical risk (still using the 0-1 loss) on these samples.  (Think of these as validation or testing samples)\n",
        "\n",
        "**Q**: If we want to estimate $\\mu$ to an accuracy of $\\pm t$, with a confidence of $p=1-\\alpha$, how many samples $n$ do we need? Do this for $t=0.001, 0.01, 0.02$ and $0.05$, and for $\\alpha$ being $10^{-1},10^{-2},10^{-3},10^{-4},10^{-5}$. Make a table of the resulting $n$ values.\n",
        "\n",
        "Comment on whether $p$ or $t$ has a \"bigger effect\".\n",
        "\n",
        "**A**: set $\\alpha = 2 \\exp\\left( -2nt^2\\right)$, plug in $t$, and solve for $n$, so\n",
        "$$\n",
        "-2nt^2 = \\ln\\left( \\frac{\\alpha}{2} \\right),\\quad\\text{i.e.},\\quad\n",
        "n = \\frac{ \\ln(2/\\alpha) }{2t^2}\n",
        "$$\n",
        "\n",
        "|  $t$\\ $\\alpha$       |     1e-05|     1e-04|     1e-03|     1e-02|     1e-01|\n",
        "| ---:  |  ---:    |  ---:    |  ---:    |  ---:    |  ---:    |\n",
        "|0.001\t|   6103036|   4951743|   3800451|   2649158|   1497866|\n",
        "|0.010\t|     61030|     49517|     38004|     26491|     14978|\n",
        "|0.020\t|     15257|     12379|      9501|      6622|      3744|\n",
        "|0.050\t|      2441|      1980|      1520|      1059|       599|\n",
        "\n",
        "We note that the dependence on $p$ (i.e., $\\alpha$) is very mild, because of the exponential. On the other hand, the dependence on the error bars $t$ is substantial. So it's very hard to get a very precise answer. But if we want a loose answer, but to be very certain about it, that's no problem.\n",
        "\n",
        "That is to say, if we take $1000$ samples in our test data, we can be $99\\%$ or more confident that our true risk is within $5\\%$ of our sample risk."
      ],
      "metadata": {
        "id": "vaAhwx6u11ii"
      }
    },
    {
      "cell_type": "code",
      "source": [
        "sep=\"\"  # for printing to screen\n",
        "# sep=\"|\" # for copying to markdown\n",
        "\n",
        "\n",
        "aList = np.logspace(-5,-1,5)\n",
        "print(end=sep)\n",
        "print(\"        \",end=sep)\n",
        "for alpha in aList:\n",
        "    print(f\"{alpha:10.0e}\",end=sep)\n",
        "print(flush=True)\n",
        "for t in [0.001, 0.01, 0.02, 0.05]:\n",
        "    nValues = []\n",
        "    print(end=sep)\n",
        "    print(f\"{t:.3f}\",end=\"\\t\")\n",
        "    print(end=sep)\n",
        "    for alpha in aList:\n",
        "        n = np.log(2/alpha)/(2*(t**2))\n",
        "        print(f\"{int(n):-10d}\",end=sep)\n",
        "    print(flush=True)\n",
        "\n",
        "# Or viewed another way, if we fix n=1000, and want to be 99% certain,\n",
        "#   what is the value of t?\n",
        "t_1000 = np.sqrt( np.log(2/.01) / (2*1000 ))\n",
        "print(f'For n=1000 and 99\\% certainty, t is {t_1000:.3f}')"
      ],
      "metadata": {
        "colab": {
          "base_uri": "https://localhost:8080/"
        },
        "id": "y_nLztxz10ne",
        "outputId": "5c501202-ddc9-4221-e2e8-7cb24a10b4fb"
      },
      "execution_count": 200,
      "outputs": [
        {
          "output_type": "stream",
          "name": "stdout",
          "text": [
            "             1e-05     1e-04     1e-03     1e-02     1e-01\n",
            "0.001\t   6103036   4951743   3800451   2649158   1497866\n",
            "0.010\t     61030     49517     38004     26491     14978\n",
            "0.020\t     15257     12379      9501      6622      3744\n",
            "0.050\t      2441      1980      1520      1059       599\n",
            "For n=1000 and 99\\% certainty, t is 0.051\n"
          ]
        }
      ]
    },
    {
      "cell_type": "markdown",
      "source": [
        "## Utility code (for parts 2--4)"
      ],
      "metadata": {
        "id": "y6DVCjMCHJq4"
      }
    },
    {
      "cell_type": "code",
      "source": [
        "import torch\n",
        "from torch.utils.data import Dataset\n",
        "import torch.nn as nn\n",
        "import torch.nn.functional as F\n",
        "from matplotlib import pyplot as plt"
      ],
      "metadata": {
        "id": "9UxIKfMY4uKs"
      },
      "execution_count": 194,
      "outputs": []
    },
    {
      "cell_type": "code",
      "source": [
        "torch.manual_seed(101)\n",
        "d = 1  # dimension\n",
        "\n",
        "def get_feature_samples(n):\n",
        "    return torch.rand( (n,d) )-0.5 # uniform in [-.5,5]^d\n",
        "\n",
        "def f(x):\n",
        "    \"\"\" the *true* function that we're trying to learn\n",
        "    Should be 0 and 1 outputs\n",
        "    \"\"\"\n",
        "    y = (torch.sign( torch.sin( 15*x + 50*torch.sign(x)*x**2 ) ) + 1 )/2\n",
        "    return y.long() # the datatype torch expects for classification\n",
        "\n",
        "# if d == 1:\n",
        "#     # Easy to plot\n",
        "#     X_plot = torch.linspace(-.5,.5,300)\n",
        "#     y_plot = f(X_plot)\n",
        "#     plt.plot( X_plot, y_plot )\n",
        "#     plt.show()\n",
        "\n",
        "\n",
        "n_test      = int(1e5) # Pick enough to make this the \"truth\"\n",
        "X_test      = get_feature_samples(n_test)\n",
        "y_test      = f(X_test) # can use torch.vmap if needed\n",
        "testset     = torch.utils.data.TensorDataset(X_test,  y_test)\n",
        "testloader  = torch.utils.data.DataLoader(testset,batch_size=1000)\n",
        "\n",
        "vals,bins   = torch.histogram(y_test.float(),bins=2)\n",
        "print(vals/n_test) # check if the data is approximately well-balanced\n",
        "# print(bins)\n",
        "\n",
        "\n",
        "class Net( nn.Module ):\n",
        "    \"\"\" A simple fully-connected neural net, all hidden layers the same size\n",
        "    This does binary classification by default (outputDim=2), setup for cross-entropy loss\n",
        "    \"\"\"\n",
        "    def __init__(self, nHiddenLayers=5, width=100, activation = nn.ReLU(), outputDim=2, inputDim = 1):\n",
        "        super().__init__()\n",
        "        # Construct a net as instructed (all hidden layers of the same size)\n",
        "        self.net = []\n",
        "        fc = nn.Linear(inputDim, width)\n",
        "        # nn.init.xavier_uniform_(fc.weight)\n",
        "        self.net.append(fc)\n",
        "        self.net.append( activation )\n",
        "        for i in range(nHiddenLayers):\n",
        "            self.net.append(nn.Linear(width, width))\n",
        "            self.net.append( activation )\n",
        "        self.net.append(nn.Linear(width, outputDim))\n",
        "        self.net = nn.Sequential(*self.net)\n",
        "    def forward(self, x):\n",
        "        return self.net(x)\n",
        "\n",
        "def empiricalRisk( model, dataloader ):\n",
        "    \"\"\" We need a dataloader, not a dataset\n",
        "    (otherwise the size of the tensor isn't correct)\n",
        "    Assumes the true labels are [0,1,...,outputdim-1]\n",
        "\n",
        "    \"Risk\" is a slight misnomer, as usually a smaller risk is better.\n",
        "    This is actually the classification accuracy, between 0 and 1,\n",
        "    and higher is better\n",
        "    \"\"\"\n",
        "    model.eval()\n",
        "    with torch.no_grad():\n",
        "        total   = 0\n",
        "        correct = 0\n",
        "        for data in dataloader:\n",
        "            inputs, trueLabels = data\n",
        "            outputs = model(inputs)\n",
        "            predicted = torch.argmax(outputs.data, 1)\n",
        "            total   += trueLabels.size(0)\n",
        "            # Careful: if predicted is of size (batchSize,1)\n",
        "            #   and trueLabels are of size (batchSize,) then using \"==\"\n",
        "            #   will implicitly broadcast them to the wrong size!\n",
        "            correct += (predicted.ravel() == trueLabels.ravel() ).sum().item()\n",
        "            # We did .sum() in case batch size > 1\n",
        "    return correct/total\n",
        "\n",
        "def train_model( trainloader, optimizer, epochs = 30, criterion = nn.CrossEntropyLoss(), verbose=False  ):\n",
        "    \"\"\"\n",
        "    You don't explicitly pass in the model, but that's implicit in the optimizer\n",
        "    \"\"\"\n",
        "    for t in range(epochs):\n",
        "        runningLoss = 0.\n",
        "        for i,data in enumerate(trainloader):\n",
        "            inputs, trueLabels = data\n",
        "            optimizer.zero_grad()\n",
        "            outputs = model(inputs)\n",
        "            loss    = criterion(outputs,trueLabels.flatten() )\n",
        "            loss.backward()\n",
        "            optimizer.step()\n",
        "            runningLoss += loss.item()\n",
        "        if verbose and ( t < 10 or t % 10 == 9 ):\n",
        "            print(f'Epoch {t+1:3d}, training (surrogate) loss is {runningLoss/i:.2f}')"
      ],
      "metadata": {
        "colab": {
          "base_uri": "https://localhost:8080/"
        },
        "id": "OM-93qkpHc1V",
        "outputId": "6e5486a2-8d2d-47d9-e895-55e31ab2507f"
      },
      "execution_count": 287,
      "outputs": [
        {
          "output_type": "stream",
          "name": "stdout",
          "text": [
            "tensor([0.5028, 0.4972])\n"
          ]
        }
      ]
    },
    {
      "cell_type": "markdown",
      "source": [
        "## Part 2: for a fixed model, look at validation risk\n",
        "\n",
        "Fix some classifier $h$ (i.e., model), and for each data point $(X_i,y_i)$ for $i=1,\\ldots,n_\\text{validation}$, we set the random variable\n",
        "$$\n",
        "Z_i = \\begin{cases} 1 & y_i = h(X_i) \\\\ 0 & y_i \\neq h(X_i)\\end{cases}\n",
        "$$\n",
        "so $S_n$ represents the **accuracy** (i.e., empirical risk, if we use the 0-1 loss) of our model $h$ on this data.\n",
        "\n",
        "We'll find $\\mu$ by evaluating accuracy on a huge number of testing points.\n",
        "\n",
        "Then, for many **experiments**, draw a new validation set (of size $n_\\text{validation}=1000$) and we compare that estimate $S_n$ with $\\mu$.  We do many experiments so that we can estimate the probability of $|S_n - \\mu| > t$  (we can choose $t$ *after* we run the experiments)\n"
      ],
      "metadata": {
        "id": "lEnlPiR9E8mg"
      }
    },
    {
      "cell_type": "code",
      "source": [
        "model = Net(nHiddenLayers=3, width=20 )\n",
        "trueRisk    = empiricalRisk(model, testloader)\n",
        "# How well does an untrained model do?\n",
        "#   Note: you may need to run this a few times (each time will give different random initializations)\n",
        "#       in order to get a model that has an interesting risk (sometimes you get 0%...)\n",
        "print(f\"True risk: {trueRisk}\")"
      ],
      "metadata": {
        "colab": {
          "base_uri": "https://localhost:8080/"
        },
        "id": "BEUk1-rZKgpx",
        "outputId": "3d27c506-b354-475b-b87d-6ba3d2e82bff"
      },
      "execution_count": 232,
      "outputs": [
        {
          "output_type": "stream",
          "name": "stdout",
          "text": [
            "True risk: 0.49724\n"
          ]
        }
      ]
    },
    {
      "cell_type": "code",
      "source": [
        "n_valid     = int(1e3)\n",
        "\n",
        "nExperiments = 1000\n",
        "risks        = []\n",
        "for i in range(nExperiments):\n",
        "    X_valid     = get_feature_samples(n_valid)\n",
        "    y_valid     = f(X_valid)\n",
        "    validset    = torch.utils.data.TensorDataset(X_valid, y_valid)\n",
        "    validloader = torch.utils.data.DataLoader(validset,batch_size=1000)\n",
        "    risks.append( empiricalRisk(model, validloader) )\n",
        "\n",
        "risks = np.array(risks)"
      ],
      "metadata": {
        "id": "zTzoCKXqHmO8"
      },
      "execution_count": 233,
      "outputs": []
    },
    {
      "cell_type": "code",
      "source": [
        "# plt.hist(risks - trueRisk)\n",
        "# plt.xlabel(\"Empirical risk - true risk\")\n",
        "# plt.show()\n",
        "\n",
        "# Or, a fancier historgram\n",
        "import seaborn as sns\n",
        "fig, ax = plt.subplots()\n",
        "sns.histplot(risks - trueRisk, ax=ax,kde=True)\n",
        "ax.set_xlabel(\"Empirical risk - true risk\")\n",
        "plt.show()"
      ],
      "metadata": {
        "colab": {
          "base_uri": "https://localhost:8080/",
          "height": 449
        },
        "id": "8pSFJR_zPwWS",
        "outputId": "1e31fcc5-d2b1-444f-b121-784299334a65"
      },
      "execution_count": 238,
      "outputs": [
        {
          "output_type": "display_data",
          "data": {
            "text/plain": [
              "<Figure size 640x480 with 1 Axes>"
            ],
            "image/png": "[encoded data removed]"
          },
          "metadata": {}
        }
      ]
    },
    {
      "cell_type": "code",
      "source": [
        "# and let's look at the .5% and 99.5% percent quantiles\n",
        "tList = np.quantile( risks - trueRisk, [0.005, 0.995] )\n",
        "print(tList)\n",
        "t = np.linalg.norm(tList,ord=np.Inf)\n",
        "print(t)"
      ],
      "metadata": {
        "colab": {
          "base_uri": "https://localhost:8080/"
        },
        "id": "yn6-l2JISqko",
        "outputId": "20fb9a97-5c86-4a5f-f9b1-4b164d3241c0"
      },
      "execution_count": 239,
      "outputs": [
        {
          "output_type": "stream",
          "name": "stdout",
          "text": [
            "[-0.035245  0.04177 ]\n",
            "0.04177000000000001\n"
          ]
        }
      ]
    },
    {
      "cell_type": "markdown",
      "source": [
        "If the $.5\\%$ and $99.5\\%$ quantiles are, say, `[-0.038  0.041]`, this means that $99\\%$ of the data is within $t=0.41$ of the true mean"
      ],
      "metadata": {
        "id": "a0o9pbFNQedG"
      }
    },
    {
      "cell_type": "code",
      "source": [
        "# What do we expect for t, from Hoeffding's inequality?  If we're asking about p=.99, then...\n",
        "print(f'Theory predicts 99% confidence if t >= {t_1000:.4f}. Empirical value: {t:.4f}')"
      ],
      "metadata": {
        "colab": {
          "base_uri": "https://localhost:8080/"
        },
        "id": "ILVAy0U7RUSU",
        "outputId": "790dec85-d2a5-47bc-f0c0-1c40b87bea63"
      },
      "execution_count": 240,
      "outputs": [
        {
          "output_type": "stream",
          "name": "stdout",
          "text": [
            "Theory predicts 99\\% confidence if t >= 0.0515. Empirical value: 0.0418\n"
          ]
        }
      ]
    },
    {
      "cell_type": "markdown",
      "source": [
        "## Part 3: choose the best from among many models\n",
        "Now, fix a given validation set, but we'll do many experiments with sets of models.\n",
        "\n",
        "That is, for a set of 10 models, we'll choose the best model (in terms of accuracy; higher is better)"
      ],
      "metadata": {
        "id": "nJ54ZcBpVrZ5"
      }
    },
    {
      "cell_type": "code",
      "source": [
        "# Use a single validation set...\n",
        "X_valid     = get_feature_samples(n_valid)\n",
        "y_valid     = f(X_valid)\n",
        "validset    = torch.utils.data.TensorDataset(X_valid, y_valid)\n",
        "validloader = torch.utils.data.DataLoader(validset,batch_size=1000)\n",
        "\n",
        "# Rather than train, we can just initialize with random weights\n",
        "# This *should* be automatic if we ask for a new Net() object\n",
        "#   since by default PyTorch does random initialization.\n",
        "# Be careful!  There's a subtlety: since our data is not perfectly balanced,\n",
        "#   if we initialize in such a way so that the model always predicts all 1s, or all 0s,\n",
        "#   that is often the best. This effect will go away with training,\n",
        "#   or we could have a perfectly balanced dataset...\n",
        "\n",
        "# We can also initialize ourself:\n",
        "# From: https://lightning.ai/docs/pytorch/stable/notebooks/course_UvA-DL/03-initialization-and-optimization.html\n",
        "def equal_var_init(model):\n",
        "    for name, param in model.named_parameters():\n",
        "        if name.endswith(\".bias\"):\n",
        "            param.data.fill_(0)\n",
        "        else:\n",
        "            param.data.normal_(std=1.0 / np.sqrt(param.shape[1]))\n",
        "model = Net(nHiddenLayers=3,width=20 )\n",
        "\n",
        "\n",
        "nExperiments = 100\n",
        "nModels      = 10\n",
        "errors       = []\n",
        "trueRisks    = []\n",
        "for i in range(nExperiments):\n",
        "\n",
        "    bestRisk = -1\n",
        "    for j in range(nModels):\n",
        "        # Choose random model\n",
        "        #model = Net(nHiddenLayers=3,width=20 )\n",
        "        equal_var_init(model)\n",
        "        # For now, we're lazy and we won't train (but should still see the effect)\n",
        "        risk =  empiricalRisk(model, validloader)\n",
        "        if risk > bestRisk:\n",
        "            # \"risk\" is really accuracy, so higher is better\n",
        "            #   We'll naturally work with the model that did the best:\n",
        "            bestRisk = risk\n",
        "            mu       = empiricalRisk(model, testloader)  # estimate with a lot of data\n",
        "            #print(f'Estimated risk {bestRisk:.3f}, true risk for this model is {mu:.3f}')\n",
        "\n",
        "    errors.append( bestRisk - mu)\n",
        "    trueRisks.append(mu) # should be better than 50-50\n",
        "\n",
        "errors = np.array(errors)\n",
        "trueRisks = np.array(trueRisks)"
      ],
      "metadata": {
        "id": "l032hDLCJUca"
      },
      "execution_count": 242,
      "outputs": []
    },
    {
      "cell_type": "code",
      "source": [
        "import seaborn as sns\n",
        "fig, ax = plt.subplots()\n",
        "sns.histplot(errors, ax=ax,kde=True)\n",
        "ax.set_xlabel(\"Empirical risk - true risk\")\n",
        "plt.title('Taking best out of 10 models')\n",
        "plt.show()"
      ],
      "metadata": {
        "colab": {
          "base_uri": "https://localhost:8080/",
          "height": 472
        },
        "id": "i5zHaW5NYCcO",
        "outputId": "7616a9c7-8b2e-4da8-db4c-a08652380b29"
      },
      "execution_count": 244,
      "outputs": [
        {
          "output_type": "display_data",
          "data": {
            "text/plain": [
              "<Figure size 640x480 with 1 Axes>"
            ],
            "image/png": "[encoded data removed]"
          },
          "metadata": {}
        }
      ]
    },
    {
      "cell_type": "code",
      "source": [
        "alpha = 0.05\n",
        "t_theory = np.sqrt( np.log(2/alpha) / (2*n_valid ))\n",
        "\n",
        "tList = np.quantile( errors, [alpha/2, 1-alpha/2] )\n",
        "t = np.linalg.norm(tList,ord=np.Inf)\n",
        "\n",
        "print(f'Theory predicts {(1-alpha)*100:.1f}% confidence if t >= {t_theory:.4f}. Empirical value: {t:.4f}')\n",
        "# As long as t_theory > t_empirical, we're OK\n",
        "#   If not, then theory is wrong (or its assumptions are wrong!)"
      ],
      "metadata": {
        "colab": {
          "base_uri": "https://localhost:8080/"
        },
        "id": "Uy5Pgd_aNOhb",
        "outputId": "11b3c702-3044-443c-df7f-ac6ea8f5bc95"
      },
      "execution_count": 257,
      "outputs": [
        {
          "output_type": "stream",
          "name": "stdout",
          "text": [
            "Theory predicts 95.0% confidence if t >= 0.0429. Empirical value: 0.0312\n"
          ]
        }
      ]
    },
    {
      "cell_type": "markdown",
      "source": [
        "In our case, we don't violate the theory bounds *per se*, but we certainly don't have a nice central limit theorem style result. The histogram is clearly biased. Our estimate of the accuracy is always an overestimate!!"
      ],
      "metadata": {
        "id": "JpvK1YdEVSc3"
      }
    },
    {
      "cell_type": "markdown",
      "source": [
        "## Part 4: training and choosing best hyperparameters\n",
        "Something isn't right... there's a bug in the training script I think."
      ],
      "metadata": {
        "id": "OkExQPoFTZX2"
      }
    },
    {
      "cell_type": "code",
      "source": [
        "# Can we train this model? Let's make sure\n",
        "n_train     = int(1e3) # not too large, in order to keep this fast\n",
        "X_train     = get_feature_samples(n_train)\n",
        "y_train     = f(X_train)\n",
        "trainset    = torch.utils.data.TensorDataset(X_train, y_train)\n",
        "trainloader = torch.utils.data.DataLoader(trainset, batch_size=50, shuffle=True)\n",
        "criterion   = nn.CrossEntropyLoss()\n",
        "\n",
        "# Use a single validation set...\n",
        "X_valid     = get_feature_samples(n_valid)\n",
        "y_valid     = f(X_valid)\n",
        "validset    = torch.utils.data.TensorDataset(X_valid, y_valid)\n",
        "validloader = torch.utils.data.DataLoader(validset,batch_size=1000)\n",
        "\n",
        "model = Net(nHiddenLayers=5, width=30 )\n",
        "risk =  empiricalRisk(model, validloader)\n",
        "print(f'First run: validation error is {risk:.3f} *before* training')\n",
        "optimizer     = torch.optim.SGD(model.parameters(),lr=1e-1)\n",
        "model.train()\n",
        "train_model( trainloader, optimizer, epochs=1000, verbose=True )\n",
        "risk =  empiricalRisk(model, validloader)\n",
        "print(f'First run: validation error is {risk:.3f} *after* training')"
      ],
      "metadata": {
        "colab": {
          "base_uri": "https://localhost:8080/",
          "height": 918
        },
        "id": "WJBjoGKjZ9PZ",
        "outputId": "bbe92f28-165f-4d91-9c4d-f8f2564d0f79"
      },
      "execution_count": 292,
      "outputs": [
        {
          "output_type": "stream",
          "name": "stdout",
          "text": [
            "First run: validation error is 0.506 *before* training\n",
            "Epoch   1, training (surrogate) loss is 0.73\n",
            "Epoch   2, training (surrogate) loss is 0.73\n",
            "Epoch   3, training (surrogate) loss is 0.73\n",
            "Epoch   4, training (surrogate) loss is 0.73\n",
            "Epoch   5, training (surrogate) loss is 0.73\n",
            "Epoch   6, training (surrogate) loss is 0.73\n",
            "Epoch   7, training (surrogate) loss is 0.73\n",
            "Epoch   8, training (surrogate) loss is 0.73\n",
            "Epoch   9, training (surrogate) loss is 0.73\n",
            "Epoch  10, training (surrogate) loss is 0.73\n",
            "Epoch  20, training (surrogate) loss is 0.73\n",
            "Epoch  30, training (surrogate) loss is 0.73\n",
            "Epoch  40, training (surrogate) loss is 0.73\n",
            "Epoch  50, training (surrogate) loss is 0.73\n",
            "Epoch  60, training (surrogate) loss is 0.73\n",
            "Epoch  70, training (surrogate) loss is 0.73\n",
            "Epoch  80, training (surrogate) loss is 0.73\n",
            "Epoch  90, training (surrogate) loss is 0.73\n",
            "Epoch 100, training (surrogate) loss is 0.73\n",
            "Epoch 110, training (surrogate) loss is 0.73\n",
            "Epoch 120, training (surrogate) loss is 0.73\n",
            "Epoch 130, training (surrogate) loss is 0.73\n",
            "Epoch 140, training (surrogate) loss is 0.73\n",
            "Epoch 150, training (surrogate) loss is 0.73\n",
            "Epoch 160, training (surrogate) loss is 0.73\n",
            "Epoch 170, training (surrogate) loss is 0.73\n",
            "Epoch 180, training (surrogate) loss is 0.73\n",
            "Epoch 190, training (surrogate) loss is 0.73\n",
            "Epoch 200, training (surrogate) loss is 0.72\n",
            "Epoch 210, training (surrogate) loss is 0.73\n"
          ]
        },
        {
          "output_type": "error",
          "ename": "KeyboardInterrupt",
          "evalue": "",
          "traceback": [
            "\u001b[0;31m---------------------------------------------------------------------------\u001b[0m",
            "\u001b[0;31mKeyboardInterrupt\u001b[0m                         Traceback (most recent call last)",
            "\u001b[0;32m<ipython-input-292-89253b464459>\u001b[0m in \u001b[0;36m<cell line: 20>\u001b[0;34m()\u001b[0m\n\u001b[1;32m     18\u001b[0m \u001b[0moptimizer\u001b[0m     \u001b[0;34m=\u001b[0m \u001b[0mtorch\u001b[0m\u001b[0;34m.\u001b[0m\u001b[0moptim\u001b[0m\u001b[0;34m.\u001b[0m\u001b[0mSGD\u001b[0m\u001b[0;34m(\u001b[0m\u001b[0mmodel\u001b[0m\u001b[0;34m.\u001b[0m\u001b[0mparameters\u001b[0m\u001b[0;34m(\u001b[0m\u001b[0;34m)\u001b[0m\u001b[0;34m,\u001b[0m\u001b[0mlr\u001b[0m\u001b[0;34m=\u001b[0m\u001b[0;36m1e-1\u001b[0m\u001b[0;34m)\u001b[0m\u001b[0;34m\u001b[0m\u001b[0;34m\u001b[0m\u001b[0m\n\u001b[1;32m     19\u001b[0m \u001b[0mmodel\u001b[0m\u001b[0;34m.\u001b[0m\u001b[0mtrain\u001b[0m\u001b[0;34m(\u001b[0m\u001b[0;34m)\u001b[0m\u001b[0;34m\u001b[0m\u001b[0;34m\u001b[0m\u001b[0m\n\u001b[0;32m---> 20\u001b[0;31m \u001b[0mtrain_model\u001b[0m\u001b[0;34m(\u001b[0m \u001b[0mtrainloader\u001b[0m\u001b[0;34m,\u001b[0m \u001b[0moptimizer\u001b[0m\u001b[0;34m,\u001b[0m \u001b[0mepochs\u001b[0m\u001b[0;34m=\u001b[0m\u001b[0;36m1000\u001b[0m\u001b[0;34m,\u001b[0m \u001b[0mverbose\u001b[0m\u001b[0;34m=\u001b[0m\u001b[0;32mTrue\u001b[0m \u001b[0;34m)\u001b[0m\u001b[0;34m\u001b[0m\u001b[0;34m\u001b[0m\u001b[0m\n\u001b[0m\u001b[1;32m     21\u001b[0m \u001b[0mrisk\u001b[0m \u001b[0;34m=\u001b[0m  \u001b[0mempiricalRisk\u001b[0m\u001b[0;34m(\u001b[0m\u001b[0mmodel\u001b[0m\u001b[0;34m,\u001b[0m \u001b[0mvalidloader\u001b[0m\u001b[0;34m)\u001b[0m\u001b[0;34m\u001b[0m\u001b[0;34m\u001b[0m\u001b[0m\n\u001b[1;32m     22\u001b[0m \u001b[0mprint\u001b[0m\u001b[0;34m(\u001b[0m\u001b[0;34mf'First run: validation error is {risk:.3f} *after* training'\u001b[0m\u001b[0;34m)\u001b[0m\u001b[0;34m\u001b[0m\u001b[0;34m\u001b[0m\u001b[0m\n",
            "\u001b[0;32m<ipython-input-287-0c569365640f>\u001b[0m in \u001b[0;36mtrain_model\u001b[0;34m(trainloader, optimizer, epochs, criterion, verbose)\u001b[0m\n\u001b[1;32m     82\u001b[0m     \u001b[0;32mfor\u001b[0m \u001b[0mt\u001b[0m \u001b[0;32min\u001b[0m \u001b[0mrange\u001b[0m\u001b[0;34m(\u001b[0m\u001b[0mepochs\u001b[0m\u001b[0;34m)\u001b[0m\u001b[0;34m:\u001b[0m\u001b[0;34m\u001b[0m\u001b[0;34m\u001b[0m\u001b[0m\n\u001b[1;32m     83\u001b[0m         \u001b[0mrunningLoss\u001b[0m \u001b[0;34m=\u001b[0m \u001b[0;36m0.\u001b[0m\u001b[0;34m\u001b[0m\u001b[0;34m\u001b[0m\u001b[0m\n\u001b[0;32m---> 84\u001b[0;31m         \u001b[0;32mfor\u001b[0m \u001b[0mi\u001b[0m\u001b[0;34m,\u001b[0m\u001b[0mdata\u001b[0m \u001b[0;32min\u001b[0m \u001b[0menumerate\u001b[0m\u001b[0;34m(\u001b[0m\u001b[0mtrainloader\u001b[0m\u001b[0;34m)\u001b[0m\u001b[0;34m:\u001b[0m\u001b[0;34m\u001b[0m\u001b[0;34m\u001b[0m\u001b[0m\n\u001b[0m\u001b[1;32m     85\u001b[0m             \u001b[0minputs\u001b[0m\u001b[0;34m,\u001b[0m \u001b[0mtrueLabels\u001b[0m \u001b[0;34m=\u001b[0m \u001b[0mdata\u001b[0m\u001b[0;34m\u001b[0m\u001b[0;34m\u001b[0m\u001b[0m\n\u001b[1;32m     86\u001b[0m             \u001b[0moptimizer\u001b[0m\u001b[0;34m.\u001b[0m\u001b[0mzero_grad\u001b[0m\u001b[0;34m(\u001b[0m\u001b[0;34m)\u001b[0m\u001b[0;34m\u001b[0m\u001b[0;34m\u001b[0m\u001b[0m\n",
            "\u001b[0;32m/usr/local/lib/python3.10/dist-packages/torch/utils/data/dataloader.py\u001b[0m in \u001b[0;36m__next__\u001b[0;34m(self)\u001b[0m\n\u001b[1;32m    628\u001b[0m                 \u001b[0;31m# TODO(https://github.com/pytorch/pytorch/issues/76750)\u001b[0m\u001b[0;34m\u001b[0m\u001b[0;34m\u001b[0m\u001b[0m\n\u001b[1;32m    629\u001b[0m                 \u001b[0mself\u001b[0m\u001b[0;34m.\u001b[0m\u001b[0m_reset\u001b[0m\u001b[0;34m(\u001b[0m\u001b[0;34m)\u001b[0m  \u001b[0;31m# type: ignore[call-arg]\u001b[0m\u001b[0;34m\u001b[0m\u001b[0;34m\u001b[0m\u001b[0m\n\u001b[0;32m--> 630\u001b[0;31m             \u001b[0mdata\u001b[0m \u001b[0;34m=\u001b[0m \u001b[0mself\u001b[0m\u001b[0;34m.\u001b[0m\u001b[0m_next_data\u001b[0m\u001b[0;34m(\u001b[0m\u001b[0;34m)\u001b[0m\u001b[0;34m\u001b[0m\u001b[0;34m\u001b[0m\u001b[0m\n\u001b[0m\u001b[1;32m    631\u001b[0m             \u001b[0mself\u001b[0m\u001b[0;34m.\u001b[0m\u001b[0m_num_yielded\u001b[0m \u001b[0;34m+=\u001b[0m \u001b[0;36m1\u001b[0m\u001b[0;34m\u001b[0m\u001b[0;34m\u001b[0m\u001b[0m\n\u001b[1;32m    632\u001b[0m             \u001b[0;32mif\u001b[0m \u001b[0mself\u001b[0m\u001b[0;34m.\u001b[0m\u001b[0m_dataset_kind\u001b[0m \u001b[0;34m==\u001b[0m \u001b[0m_DatasetKind\u001b[0m\u001b[0;34m.\u001b[0m\u001b[0mIterable\u001b[0m \u001b[0;32mand\u001b[0m\u001b[0;31m \u001b[0m\u001b[0;31m\\\u001b[0m\u001b[0;34m\u001b[0m\u001b[0;34m\u001b[0m\u001b[0m\n",
            "\u001b[0;32m/usr/local/lib/python3.10/dist-packages/torch/utils/data/dataloader.py\u001b[0m in \u001b[0;36m_next_data\u001b[0;34m(self)\u001b[0m\n\u001b[1;32m    671\u001b[0m     \u001b[0;32mdef\u001b[0m \u001b[0m_next_data\u001b[0m\u001b[0;34m(\u001b[0m\u001b[0mself\u001b[0m\u001b[0;34m)\u001b[0m\u001b[0;34m:\u001b[0m\u001b[0;34m\u001b[0m\u001b[0;34m\u001b[0m\u001b[0m\n\u001b[1;32m    672\u001b[0m         \u001b[0mindex\u001b[0m \u001b[0;34m=\u001b[0m \u001b[0mself\u001b[0m\u001b[0;34m.\u001b[0m\u001b[0m_next_index\u001b[0m\u001b[0;34m(\u001b[0m\u001b[0;34m)\u001b[0m  \u001b[0;31m# may raise StopIteration\u001b[0m\u001b[0;34m\u001b[0m\u001b[0;34m\u001b[0m\u001b[0m\n\u001b[0;32m--> 673\u001b[0;31m         \u001b[0mdata\u001b[0m \u001b[0;34m=\u001b[0m \u001b[0mself\u001b[0m\u001b[0;34m.\u001b[0m\u001b[0m_dataset_fetcher\u001b[0m\u001b[0;34m.\u001b[0m\u001b[0mfetch\u001b[0m\u001b[0;34m(\u001b[0m\u001b[0mindex\u001b[0m\u001b[0;34m)\u001b[0m  \u001b[0;31m# may raise StopIteration\u001b[0m\u001b[0;34m\u001b[0m\u001b[0;34m\u001b[0m\u001b[0m\n\u001b[0m\u001b[1;32m    674\u001b[0m         \u001b[0;32mif\u001b[0m \u001b[0mself\u001b[0m\u001b[0;34m.\u001b[0m\u001b[0m_pin_memory\u001b[0m\u001b[0;34m:\u001b[0m\u001b[0;34m\u001b[0m\u001b[0;34m\u001b[0m\u001b[0m\n\u001b[1;32m    675\u001b[0m             \u001b[0mdata\u001b[0m \u001b[0;34m=\u001b[0m \u001b[0m_utils\u001b[0m\u001b[0;34m.\u001b[0m\u001b[0mpin_memory\u001b[0m\u001b[0;34m.\u001b[0m\u001b[0mpin_memory\u001b[0m\u001b[0;34m(\u001b[0m\u001b[0mdata\u001b[0m\u001b[0;34m,\u001b[0m \u001b[0mself\u001b[0m\u001b[0;34m.\u001b[0m\u001b[0m_pin_memory_device\u001b[0m\u001b[0;34m)\u001b[0m\u001b[0;34m\u001b[0m\u001b[0;34m\u001b[0m\u001b[0m\n",
            "\u001b[0;32m/usr/local/lib/python3.10/dist-packages/torch/utils/data/_utils/fetch.py\u001b[0m in \u001b[0;36mfetch\u001b[0;34m(self, possibly_batched_index)\u001b[0m\n\u001b[1;32m     50\u001b[0m                 \u001b[0mdata\u001b[0m \u001b[0;34m=\u001b[0m \u001b[0mself\u001b[0m\u001b[0;34m.\u001b[0m\u001b[0mdataset\u001b[0m\u001b[0;34m.\u001b[0m\u001b[0m__getitems__\u001b[0m\u001b[0;34m(\u001b[0m\u001b[0mpossibly_batched_index\u001b[0m\u001b[0;34m)\u001b[0m\u001b[0;34m\u001b[0m\u001b[0;34m\u001b[0m\u001b[0m\n\u001b[1;32m     51\u001b[0m             \u001b[0;32melse\u001b[0m\u001b[0;34m:\u001b[0m\u001b[0;34m\u001b[0m\u001b[0;34m\u001b[0m\u001b[0m\n\u001b[0;32m---> 52\u001b[0;31m                 \u001b[0mdata\u001b[0m \u001b[0;34m=\u001b[0m \u001b[0;34m[\u001b[0m\u001b[0mself\u001b[0m\u001b[0;34m.\u001b[0m\u001b[0mdataset\u001b[0m\u001b[0;34m[\u001b[0m\u001b[0midx\u001b[0m\u001b[0;34m]\u001b[0m \u001b[0;32mfor\u001b[0m \u001b[0midx\u001b[0m \u001b[0;32min\u001b[0m \u001b[0mpossibly_batched_index\u001b[0m\u001b[0;34m]\u001b[0m\u001b[0;34m\u001b[0m\u001b[0;34m\u001b[0m\u001b[0m\n\u001b[0m\u001b[1;32m     53\u001b[0m         \u001b[0;32melse\u001b[0m\u001b[0;34m:\u001b[0m\u001b[0;34m\u001b[0m\u001b[0;34m\u001b[0m\u001b[0m\n\u001b[1;32m     54\u001b[0m             \u001b[0mdata\u001b[0m \u001b[0;34m=\u001b[0m \u001b[0mself\u001b[0m\u001b[0;34m.\u001b[0m\u001b[0mdataset\u001b[0m\u001b[0;34m[\u001b[0m\u001b[0mpossibly_batched_index\u001b[0m\u001b[0;34m]\u001b[0m\u001b[0;34m\u001b[0m\u001b[0;34m\u001b[0m\u001b[0m\n",
            "\u001b[0;32m/usr/local/lib/python3.10/dist-packages/torch/utils/data/_utils/fetch.py\u001b[0m in \u001b[0;36m<listcomp>\u001b[0;34m(.0)\u001b[0m\n\u001b[1;32m     50\u001b[0m                 \u001b[0mdata\u001b[0m \u001b[0;34m=\u001b[0m \u001b[0mself\u001b[0m\u001b[0;34m.\u001b[0m\u001b[0mdataset\u001b[0m\u001b[0;34m.\u001b[0m\u001b[0m__getitems__\u001b[0m\u001b[0;34m(\u001b[0m\u001b[0mpossibly_batched_index\u001b[0m\u001b[0;34m)\u001b[0m\u001b[0;34m\u001b[0m\u001b[0;34m\u001b[0m\u001b[0m\n\u001b[1;32m     51\u001b[0m             \u001b[0;32melse\u001b[0m\u001b[0;34m:\u001b[0m\u001b[0;34m\u001b[0m\u001b[0;34m\u001b[0m\u001b[0m\n\u001b[0;32m---> 52\u001b[0;31m                 \u001b[0mdata\u001b[0m \u001b[0;34m=\u001b[0m \u001b[0;34m[\u001b[0m\u001b[0mself\u001b[0m\u001b[0;34m.\u001b[0m\u001b[0mdataset\u001b[0m\u001b[0;34m[\u001b[0m\u001b[0midx\u001b[0m\u001b[0;34m]\u001b[0m \u001b[0;32mfor\u001b[0m \u001b[0midx\u001b[0m \u001b[0;32min\u001b[0m \u001b[0mpossibly_batched_index\u001b[0m\u001b[0;34m]\u001b[0m\u001b[0;34m\u001b[0m\u001b[0;34m\u001b[0m\u001b[0m\n\u001b[0m\u001b[1;32m     53\u001b[0m         \u001b[0;32melse\u001b[0m\u001b[0;34m:\u001b[0m\u001b[0;34m\u001b[0m\u001b[0;34m\u001b[0m\u001b[0m\n\u001b[1;32m     54\u001b[0m             \u001b[0mdata\u001b[0m \u001b[0;34m=\u001b[0m \u001b[0mself\u001b[0m\u001b[0;34m.\u001b[0m\u001b[0mdataset\u001b[0m\u001b[0;34m[\u001b[0m\u001b[0mpossibly_batched_index\u001b[0m\u001b[0;34m]\u001b[0m\u001b[0;34m\u001b[0m\u001b[0;34m\u001b[0m\u001b[0m\n",
            "\u001b[0;32m/usr/local/lib/python3.10/dist-packages/torch/utils/data/dataset.py\u001b[0m in \u001b[0;36m__getitem__\u001b[0;34m(self, index)\u001b[0m\n\u001b[1;32m    209\u001b[0m \u001b[0;34m\u001b[0m\u001b[0m\n\u001b[1;32m    210\u001b[0m     \u001b[0;32mdef\u001b[0m \u001b[0m__getitem__\u001b[0m\u001b[0;34m(\u001b[0m\u001b[0mself\u001b[0m\u001b[0;34m,\u001b[0m \u001b[0mindex\u001b[0m\u001b[0;34m)\u001b[0m\u001b[0;34m:\u001b[0m\u001b[0;34m\u001b[0m\u001b[0;34m\u001b[0m\u001b[0m\n\u001b[0;32m--> 211\u001b[0;31m         \u001b[0;32mreturn\u001b[0m \u001b[0mtuple\u001b[0m\u001b[0;34m(\u001b[0m\u001b[0mtensor\u001b[0m\u001b[0;34m[\u001b[0m\u001b[0mindex\u001b[0m\u001b[0;34m]\u001b[0m \u001b[0;32mfor\u001b[0m \u001b[0mtensor\u001b[0m \u001b[0;32min\u001b[0m \u001b[0mself\u001b[0m\u001b[0;34m.\u001b[0m\u001b[0mtensors\u001b[0m\u001b[0;34m)\u001b[0m\u001b[0;34m\u001b[0m\u001b[0;34m\u001b[0m\u001b[0m\n\u001b[0m\u001b[1;32m    212\u001b[0m \u001b[0;34m\u001b[0m\u001b[0m\n\u001b[1;32m    213\u001b[0m     \u001b[0;32mdef\u001b[0m \u001b[0m__len__\u001b[0m\u001b[0;34m(\u001b[0m\u001b[0mself\u001b[0m\u001b[0;34m)\u001b[0m\u001b[0;34m:\u001b[0m\u001b[0;34m\u001b[0m\u001b[0;34m\u001b[0m\u001b[0m\n",
            "\u001b[0;32m/usr/local/lib/python3.10/dist-packages/torch/utils/data/dataset.py\u001b[0m in \u001b[0;36m<genexpr>\u001b[0;34m(.0)\u001b[0m\n\u001b[1;32m    209\u001b[0m \u001b[0;34m\u001b[0m\u001b[0m\n\u001b[1;32m    210\u001b[0m     \u001b[0;32mdef\u001b[0m \u001b[0m__getitem__\u001b[0m\u001b[0;34m(\u001b[0m\u001b[0mself\u001b[0m\u001b[0;34m,\u001b[0m \u001b[0mindex\u001b[0m\u001b[0;34m)\u001b[0m\u001b[0;34m:\u001b[0m\u001b[0;34m\u001b[0m\u001b[0;34m\u001b[0m\u001b[0m\n\u001b[0;32m--> 211\u001b[0;31m         \u001b[0;32mreturn\u001b[0m \u001b[0mtuple\u001b[0m\u001b[0;34m(\u001b[0m\u001b[0mtensor\u001b[0m\u001b[0;34m[\u001b[0m\u001b[0mindex\u001b[0m\u001b[0;34m]\u001b[0m \u001b[0;32mfor\u001b[0m \u001b[0mtensor\u001b[0m \u001b[0;32min\u001b[0m \u001b[0mself\u001b[0m\u001b[0;34m.\u001b[0m\u001b[0mtensors\u001b[0m\u001b[0;34m)\u001b[0m\u001b[0;34m\u001b[0m\u001b[0;34m\u001b[0m\u001b[0m\n\u001b[0m\u001b[1;32m    212\u001b[0m \u001b[0;34m\u001b[0m\u001b[0m\n\u001b[1;32m    213\u001b[0m     \u001b[0;32mdef\u001b[0m \u001b[0m__len__\u001b[0m\u001b[0;34m(\u001b[0m\u001b[0mself\u001b[0m\u001b[0;34m)\u001b[0m\u001b[0;34m:\u001b[0m\u001b[0;34m\u001b[0m\u001b[0;34m\u001b[0m\u001b[0m\n",
            "\u001b[0;31mKeyboardInterrupt\u001b[0m: "
          ]
        }
      ]
    },
    {
      "cell_type": "code",
      "source": [
        "n_train     = int(1e3) # not too large, in order to keep this fast\n",
        "X_train     = get_feature_samples(n_train)\n",
        "y_train     = f(X_train)\n",
        "trainset    = torch.utils.data.TensorDataset(X_train, y_train)\n",
        "trainloader = torch.utils.data.DataLoader(trainset, batch_size=250, shuffle=True)\n",
        "criterion   = nn.CrossEntropyLoss()\n",
        "\n",
        "# Use a single validation set...\n",
        "X_valid     = get_feature_samples(n_valid)\n",
        "y_valid     = f(X_valid)\n",
        "validset    = torch.utils.data.TensorDataset(X_valid, y_valid)\n",
        "validloader = torch.utils.data.DataLoader(validset,batch_size=1000)\n",
        "\n",
        "# Hyperparameters:\n",
        "nHiddenLayers = 5\n",
        "width         = 30\n",
        "learning_rate = 1e-2\n",
        "epochs        = 120  # let's make it fast!\n",
        "\n",
        "nExperiments = 50\n",
        "nModels      = 5\n",
        "errors       = []\n",
        "trueRisks    = []\n",
        "for i in range(nExperiments):\n",
        "    print(f'Experiment {i+1:3d} of {nExperiments}')\n",
        "    bestRisk = -1\n",
        "    for j in range(nModels):\n",
        "        # Choose hyperparameters randomly\n",
        "        # ... or don't. We can just rely on the random initialization\n",
        "        # nHiddenLayers   = torch.randint(1,10,(1,))\n",
        "        # width           = torch.randint(10,200,(1,))\n",
        "        # log_learning_rate = torch.rand((1,))\n",
        "        # learning_rate   = 10**( -3 + log_learning_rate )\n",
        "        # epochs          = torch.randint(10,100,(1,) )\n",
        "\n",
        "        model = Net(nHiddenLayers=nHiddenLayers, width=width )\n",
        "        verbose = ( i==0 and j==0 )\n",
        "        if verbose:\n",
        "            risk =  empiricalRisk(model, validloader)\n",
        "            print(f'First run: validation error is {risk:.3f} *before* training')\n",
        "        optimizer     = torch.optim.SGD(model.parameters(),lr=learning_rate)\n",
        "\n",
        "        # Train it\n",
        "        model.train()\n",
        "        train_model( trainloader, optimizer, epochs=epochs, verbose=False )\n",
        "\n",
        "        # For now, we're lazy and we won't train (but should still see the effect)\n",
        "        risk =  empiricalRisk(model, validloader)\n",
        "        if verbose:\n",
        "            # Sanity check\n",
        "            print(f'First run: validation error is {risk:.3f} *after* training')\n",
        "        if risk > bestRisk:\n",
        "            # \"risk\" is really accuracy, so higher is better\n",
        "            #   We'll naturally work with the model that did the best:\n",
        "            bestRisk = risk\n",
        "            mu       = empiricalRisk(model, testloader)  # estimate with a lot of data\n",
        "            #print(f'Estimated risk {bestRisk:.3f}, true risk for this model is {mu:.3f}')\n",
        "\n",
        "    errors.append( bestRisk - mu)\n",
        "    trueRisks.append(mu) # should be better than 50-50\n",
        "\n",
        "errors = np.array(errors)\n",
        "trueRisks = np.array(trueRisks)"
      ],
      "metadata": {
        "colab": {
          "base_uri": "https://localhost:8080/",
          "height": 418
        },
        "id": "ok1LqF5_MYpX",
        "outputId": "4f07c8e1-33ed-41bd-f2fe-dc8a1d887a28"
      },
      "execution_count": 286,
      "outputs": [
        {
          "output_type": "stream",
          "name": "stdout",
          "text": [
            "Experiment   1 of 50\n",
            "First run: validation error is 0.500 *before* training\n",
            "First run: validation error is 0.500 *after* training\n"
          ]
        },
        {
          "output_type": "error",
          "ename": "KeyboardInterrupt",
          "evalue": "",
          "traceback": [
            "\u001b[0;31m---------------------------------------------------------------------------\u001b[0m",
            "\u001b[0;31mKeyboardInterrupt\u001b[0m                         Traceback (most recent call last)",
            "\u001b[0;32m<ipython-input-286-079424a9c731>\u001b[0m in \u001b[0;36m<cell line: 24>\u001b[0;34m()\u001b[0m\n\u001b[1;32m     43\u001b[0m         \u001b[0;31m# Train it\u001b[0m\u001b[0;34m\u001b[0m\u001b[0;34m\u001b[0m\u001b[0m\n\u001b[1;32m     44\u001b[0m         \u001b[0mmodel\u001b[0m\u001b[0;34m.\u001b[0m\u001b[0mtrain\u001b[0m\u001b[0;34m(\u001b[0m\u001b[0;34m)\u001b[0m\u001b[0;34m\u001b[0m\u001b[0;34m\u001b[0m\u001b[0m\n\u001b[0;32m---> 45\u001b[0;31m         \u001b[0mtrain_model\u001b[0m\u001b[0;34m(\u001b[0m \u001b[0mtrainloader\u001b[0m\u001b[0;34m,\u001b[0m \u001b[0moptimizer\u001b[0m\u001b[0;34m,\u001b[0m \u001b[0mepochs\u001b[0m\u001b[0;34m=\u001b[0m\u001b[0mepochs\u001b[0m\u001b[0;34m,\u001b[0m \u001b[0mverbose\u001b[0m\u001b[0;34m=\u001b[0m\u001b[0;32mFalse\u001b[0m \u001b[0;34m)\u001b[0m\u001b[0;34m\u001b[0m\u001b[0;34m\u001b[0m\u001b[0m\n\u001b[0m\u001b[1;32m     46\u001b[0m \u001b[0;34m\u001b[0m\u001b[0m\n\u001b[1;32m     47\u001b[0m         \u001b[0;31m# For now, we're lazy and we won't train (but should still see the effect)\u001b[0m\u001b[0;34m\u001b[0m\u001b[0;34m\u001b[0m\u001b[0m\n",
            "\u001b[0;32m<ipython-input-269-82221758abb8>\u001b[0m in \u001b[0;36mtrain_model\u001b[0;34m(trainloader, optimizer, epochs, criterion, verbose)\u001b[0m\n\u001b[1;32m     82\u001b[0m     \u001b[0;32mfor\u001b[0m \u001b[0mt\u001b[0m \u001b[0;32min\u001b[0m \u001b[0mrange\u001b[0m\u001b[0;34m(\u001b[0m\u001b[0mepochs\u001b[0m\u001b[0;34m)\u001b[0m\u001b[0;34m:\u001b[0m\u001b[0;34m\u001b[0m\u001b[0;34m\u001b[0m\u001b[0m\n\u001b[1;32m     83\u001b[0m         \u001b[0mrunningLoss\u001b[0m \u001b[0;34m=\u001b[0m \u001b[0;36m0.\u001b[0m\u001b[0;34m\u001b[0m\u001b[0;34m\u001b[0m\u001b[0m\n\u001b[0;32m---> 84\u001b[0;31m         \u001b[0;32mfor\u001b[0m \u001b[0mi\u001b[0m\u001b[0;34m,\u001b[0m\u001b[0mdata\u001b[0m \u001b[0;32min\u001b[0m \u001b[0menumerate\u001b[0m\u001b[0;34m(\u001b[0m\u001b[0mtrainloader\u001b[0m\u001b[0;34m)\u001b[0m\u001b[0;34m:\u001b[0m\u001b[0;34m\u001b[0m\u001b[0;34m\u001b[0m\u001b[0m\n\u001b[0m\u001b[1;32m     85\u001b[0m             \u001b[0minputs\u001b[0m\u001b[0;34m,\u001b[0m \u001b[0mtrueLabels\u001b[0m \u001b[0;34m=\u001b[0m \u001b[0mdata\u001b[0m\u001b[0;34m\u001b[0m\u001b[0;34m\u001b[0m\u001b[0m\n\u001b[1;32m     86\u001b[0m             \u001b[0moptimizer\u001b[0m\u001b[0;34m.\u001b[0m\u001b[0mzero_grad\u001b[0m\u001b[0;34m(\u001b[0m\u001b[0;34m)\u001b[0m\u001b[0;34m\u001b[0m\u001b[0;34m\u001b[0m\u001b[0m\n",
            "\u001b[0;32m/usr/local/lib/python3.10/dist-packages/torch/utils/data/dataloader.py\u001b[0m in \u001b[0;36m__next__\u001b[0;34m(self)\u001b[0m\n\u001b[1;32m    628\u001b[0m                 \u001b[0;31m# TODO(https://github.com/pytorch/pytorch/issues/76750)\u001b[0m\u001b[0;34m\u001b[0m\u001b[0;34m\u001b[0m\u001b[0m\n\u001b[1;32m    629\u001b[0m                 \u001b[0mself\u001b[0m\u001b[0;34m.\u001b[0m\u001b[0m_reset\u001b[0m\u001b[0;34m(\u001b[0m\u001b[0;34m)\u001b[0m  \u001b[0;31m# type: ignore[call-arg]\u001b[0m\u001b[0;34m\u001b[0m\u001b[0;34m\u001b[0m\u001b[0m\n\u001b[0;32m--> 630\u001b[0;31m             \u001b[0mdata\u001b[0m \u001b[0;34m=\u001b[0m \u001b[0mself\u001b[0m\u001b[0;34m.\u001b[0m\u001b[0m_next_data\u001b[0m\u001b[0;34m(\u001b[0m\u001b[0;34m)\u001b[0m\u001b[0;34m\u001b[0m\u001b[0;34m\u001b[0m\u001b[0m\n\u001b[0m\u001b[1;32m    631\u001b[0m             \u001b[0mself\u001b[0m\u001b[0;34m.\u001b[0m\u001b[0m_num_yielded\u001b[0m \u001b[0;34m+=\u001b[0m \u001b[0;36m1\u001b[0m\u001b[0;34m\u001b[0m\u001b[0;34m\u001b[0m\u001b[0m\n\u001b[1;32m    632\u001b[0m             \u001b[0;32mif\u001b[0m \u001b[0mself\u001b[0m\u001b[0;34m.\u001b[0m\u001b[0m_dataset_kind\u001b[0m \u001b[0;34m==\u001b[0m \u001b[0m_DatasetKind\u001b[0m\u001b[0;34m.\u001b[0m\u001b[0mIterable\u001b[0m \u001b[0;32mand\u001b[0m\u001b[0;31m \u001b[0m\u001b[0;31m\\\u001b[0m\u001b[0;34m\u001b[0m\u001b[0;34m\u001b[0m\u001b[0m\n",
            "\u001b[0;32m/usr/local/lib/python3.10/dist-packages/torch/utils/data/dataloader.py\u001b[0m in \u001b[0;36m_next_data\u001b[0;34m(self)\u001b[0m\n\u001b[1;32m    671\u001b[0m     \u001b[0;32mdef\u001b[0m \u001b[0m_next_data\u001b[0m\u001b[0;34m(\u001b[0m\u001b[0mself\u001b[0m\u001b[0;34m)\u001b[0m\u001b[0;34m:\u001b[0m\u001b[0;34m\u001b[0m\u001b[0;34m\u001b[0m\u001b[0m\n\u001b[1;32m    672\u001b[0m         \u001b[0mindex\u001b[0m \u001b[0;34m=\u001b[0m \u001b[0mself\u001b[0m\u001b[0;34m.\u001b[0m\u001b[0m_next_index\u001b[0m\u001b[0;34m(\u001b[0m\u001b[0;34m)\u001b[0m  \u001b[0;31m# may raise StopIteration\u001b[0m\u001b[0;34m\u001b[0m\u001b[0;34m\u001b[0m\u001b[0m\n\u001b[0;32m--> 673\u001b[0;31m         \u001b[0mdata\u001b[0m \u001b[0;34m=\u001b[0m \u001b[0mself\u001b[0m\u001b[0;34m.\u001b[0m\u001b[0m_dataset_fetcher\u001b[0m\u001b[0;34m.\u001b[0m\u001b[0mfetch\u001b[0m\u001b[0;34m(\u001b[0m\u001b[0mindex\u001b[0m\u001b[0;34m)\u001b[0m  \u001b[0;31m# may raise StopIteration\u001b[0m\u001b[0;34m\u001b[0m\u001b[0;34m\u001b[0m\u001b[0m\n\u001b[0m\u001b[1;32m    674\u001b[0m         \u001b[0;32mif\u001b[0m \u001b[0mself\u001b[0m\u001b[0;34m.\u001b[0m\u001b[0m_pin_memory\u001b[0m\u001b[0;34m:\u001b[0m\u001b[0;34m\u001b[0m\u001b[0;34m\u001b[0m\u001b[0m\n\u001b[1;32m    675\u001b[0m             \u001b[0mdata\u001b[0m \u001b[0;34m=\u001b[0m \u001b[0m_utils\u001b[0m\u001b[0;34m.\u001b[0m\u001b[0mpin_memory\u001b[0m\u001b[0;34m.\u001b[0m\u001b[0mpin_memory\u001b[0m\u001b[0;34m(\u001b[0m\u001b[0mdata\u001b[0m\u001b[0;34m,\u001b[0m \u001b[0mself\u001b[0m\u001b[0;34m.\u001b[0m\u001b[0m_pin_memory_device\u001b[0m\u001b[0;34m)\u001b[0m\u001b[0;34m\u001b[0m\u001b[0;34m\u001b[0m\u001b[0m\n",
            "\u001b[0;32m/usr/local/lib/python3.10/dist-packages/torch/utils/data/_utils/fetch.py\u001b[0m in \u001b[0;36mfetch\u001b[0;34m(self, possibly_batched_index)\u001b[0m\n\u001b[1;32m     50\u001b[0m                 \u001b[0mdata\u001b[0m \u001b[0;34m=\u001b[0m \u001b[0mself\u001b[0m\u001b[0;34m.\u001b[0m\u001b[0mdataset\u001b[0m\u001b[0;34m.\u001b[0m\u001b[0m__getitems__\u001b[0m\u001b[0;34m(\u001b[0m\u001b[0mpossibly_batched_index\u001b[0m\u001b[0;34m)\u001b[0m\u001b[0;34m\u001b[0m\u001b[0;34m\u001b[0m\u001b[0m\n\u001b[1;32m     51\u001b[0m             \u001b[0;32melse\u001b[0m\u001b[0;34m:\u001b[0m\u001b[0;34m\u001b[0m\u001b[0;34m\u001b[0m\u001b[0m\n\u001b[0;32m---> 52\u001b[0;31m                 \u001b[0mdata\u001b[0m \u001b[0;34m=\u001b[0m \u001b[0;34m[\u001b[0m\u001b[0mself\u001b[0m\u001b[0;34m.\u001b[0m\u001b[0mdataset\u001b[0m\u001b[0;34m[\u001b[0m\u001b[0midx\u001b[0m\u001b[0;34m]\u001b[0m \u001b[0;32mfor\u001b[0m \u001b[0midx\u001b[0m \u001b[0;32min\u001b[0m \u001b[0mpossibly_batched_index\u001b[0m\u001b[0;34m]\u001b[0m\u001b[0;34m\u001b[0m\u001b[0;34m\u001b[0m\u001b[0m\n\u001b[0m\u001b[1;32m     53\u001b[0m         \u001b[0;32melse\u001b[0m\u001b[0;34m:\u001b[0m\u001b[0;34m\u001b[0m\u001b[0;34m\u001b[0m\u001b[0m\n\u001b[1;32m     54\u001b[0m             \u001b[0mdata\u001b[0m \u001b[0;34m=\u001b[0m \u001b[0mself\u001b[0m\u001b[0;34m.\u001b[0m\u001b[0mdataset\u001b[0m\u001b[0;34m[\u001b[0m\u001b[0mpossibly_batched_index\u001b[0m\u001b[0;34m]\u001b[0m\u001b[0;34m\u001b[0m\u001b[0;34m\u001b[0m\u001b[0m\n",
            "\u001b[0;32m/usr/local/lib/python3.10/dist-packages/torch/utils/data/_utils/fetch.py\u001b[0m in \u001b[0;36m<listcomp>\u001b[0;34m(.0)\u001b[0m\n\u001b[1;32m     50\u001b[0m                 \u001b[0mdata\u001b[0m \u001b[0;34m=\u001b[0m \u001b[0mself\u001b[0m\u001b[0;34m.\u001b[0m\u001b[0mdataset\u001b[0m\u001b[0;34m.\u001b[0m\u001b[0m__getitems__\u001b[0m\u001b[0;34m(\u001b[0m\u001b[0mpossibly_batched_index\u001b[0m\u001b[0;34m)\u001b[0m\u001b[0;34m\u001b[0m\u001b[0;34m\u001b[0m\u001b[0m\n\u001b[1;32m     51\u001b[0m             \u001b[0;32melse\u001b[0m\u001b[0;34m:\u001b[0m\u001b[0;34m\u001b[0m\u001b[0;34m\u001b[0m\u001b[0m\n\u001b[0;32m---> 52\u001b[0;31m                 \u001b[0mdata\u001b[0m \u001b[0;34m=\u001b[0m \u001b[0;34m[\u001b[0m\u001b[0mself\u001b[0m\u001b[0;34m.\u001b[0m\u001b[0mdataset\u001b[0m\u001b[0;34m[\u001b[0m\u001b[0midx\u001b[0m\u001b[0;34m]\u001b[0m \u001b[0;32mfor\u001b[0m \u001b[0midx\u001b[0m \u001b[0;32min\u001b[0m \u001b[0mpossibly_batched_index\u001b[0m\u001b[0;34m]\u001b[0m\u001b[0;34m\u001b[0m\u001b[0;34m\u001b[0m\u001b[0m\n\u001b[0m\u001b[1;32m     53\u001b[0m         \u001b[0;32melse\u001b[0m\u001b[0;34m:\u001b[0m\u001b[0;34m\u001b[0m\u001b[0;34m\u001b[0m\u001b[0m\n\u001b[1;32m     54\u001b[0m             \u001b[0mdata\u001b[0m \u001b[0;34m=\u001b[0m \u001b[0mself\u001b[0m\u001b[0;34m.\u001b[0m\u001b[0mdataset\u001b[0m\u001b[0;34m[\u001b[0m\u001b[0mpossibly_batched_index\u001b[0m\u001b[0;34m]\u001b[0m\u001b[0;34m\u001b[0m\u001b[0;34m\u001b[0m\u001b[0m\n",
            "\u001b[0;32m/usr/local/lib/python3.10/dist-packages/torch/utils/data/dataset.py\u001b[0m in \u001b[0;36m__getitem__\u001b[0;34m(self, index)\u001b[0m\n\u001b[1;32m    209\u001b[0m \u001b[0;34m\u001b[0m\u001b[0m\n\u001b[1;32m    210\u001b[0m     \u001b[0;32mdef\u001b[0m \u001b[0m__getitem__\u001b[0m\u001b[0;34m(\u001b[0m\u001b[0mself\u001b[0m\u001b[0;34m,\u001b[0m \u001b[0mindex\u001b[0m\u001b[0;34m)\u001b[0m\u001b[0;34m:\u001b[0m\u001b[0;34m\u001b[0m\u001b[0;34m\u001b[0m\u001b[0m\n\u001b[0;32m--> 211\u001b[0;31m         \u001b[0;32mreturn\u001b[0m \u001b[0mtuple\u001b[0m\u001b[0;34m(\u001b[0m\u001b[0mtensor\u001b[0m\u001b[0;34m[\u001b[0m\u001b[0mindex\u001b[0m\u001b[0;34m]\u001b[0m \u001b[0;32mfor\u001b[0m \u001b[0mtensor\u001b[0m \u001b[0;32min\u001b[0m \u001b[0mself\u001b[0m\u001b[0;34m.\u001b[0m\u001b[0mtensors\u001b[0m\u001b[0;34m)\u001b[0m\u001b[0;34m\u001b[0m\u001b[0;34m\u001b[0m\u001b[0m\n\u001b[0m\u001b[1;32m    212\u001b[0m \u001b[0;34m\u001b[0m\u001b[0m\n\u001b[1;32m    213\u001b[0m     \u001b[0;32mdef\u001b[0m \u001b[0m__len__\u001b[0m\u001b[0;34m(\u001b[0m\u001b[0mself\u001b[0m\u001b[0;34m)\u001b[0m\u001b[0;34m:\u001b[0m\u001b[0;34m\u001b[0m\u001b[0;34m\u001b[0m\u001b[0m\n",
            "\u001b[0;32m/usr/local/lib/python3.10/dist-packages/torch/utils/data/dataset.py\u001b[0m in \u001b[0;36m<genexpr>\u001b[0;34m(.0)\u001b[0m\n\u001b[1;32m    209\u001b[0m \u001b[0;34m\u001b[0m\u001b[0m\n\u001b[1;32m    210\u001b[0m     \u001b[0;32mdef\u001b[0m \u001b[0m__getitem__\u001b[0m\u001b[0;34m(\u001b[0m\u001b[0mself\u001b[0m\u001b[0;34m,\u001b[0m \u001b[0mindex\u001b[0m\u001b[0;34m)\u001b[0m\u001b[0;34m:\u001b[0m\u001b[0;34m\u001b[0m\u001b[0;34m\u001b[0m\u001b[0m\n\u001b[0;32m--> 211\u001b[0;31m         \u001b[0;32mreturn\u001b[0m \u001b[0mtuple\u001b[0m\u001b[0;34m(\u001b[0m\u001b[0mtensor\u001b[0m\u001b[0;34m[\u001b[0m\u001b[0mindex\u001b[0m\u001b[0;34m]\u001b[0m \u001b[0;32mfor\u001b[0m \u001b[0mtensor\u001b[0m \u001b[0;32min\u001b[0m \u001b[0mself\u001b[0m\u001b[0;34m.\u001b[0m\u001b[0mtensors\u001b[0m\u001b[0;34m)\u001b[0m\u001b[0;34m\u001b[0m\u001b[0;34m\u001b[0m\u001b[0m\n\u001b[0m\u001b[1;32m    212\u001b[0m \u001b[0;34m\u001b[0m\u001b[0m\n\u001b[1;32m    213\u001b[0m     \u001b[0;32mdef\u001b[0m \u001b[0m__len__\u001b[0m\u001b[0;34m(\u001b[0m\u001b[0mself\u001b[0m\u001b[0;34m)\u001b[0m\u001b[0;34m:\u001b[0m\u001b[0;34m\u001b[0m\u001b[0;34m\u001b[0m\u001b[0m\n",
            "\u001b[0;31mKeyboardInterrupt\u001b[0m: "
          ]
        }
      ]
    },
    {
      "cell_type": "code",
      "source": [
        "import seaborn as sns\n",
        "fig, ax = plt.subplots()\n",
        "sns.histplot(errors, ax=ax,kde=True)\n",
        "ax.set_xlabel(\"Empirical risk - true risk\")\n",
        "plt.title('Taking best out of 10 **trained** models')\n",
        "plt.show()"
      ],
      "metadata": {
        "colab": {
          "base_uri": "https://localhost:8080/",
          "height": 472
        },
        "id": "BNcwalVKVwhx",
        "outputId": "12facff3-bdc7-4c26-da32-ce20ef502c8a"
      },
      "execution_count": 256,
      "outputs": [
        {
          "output_type": "display_data",
          "data": {
            "text/plain": [
              "<Figure size 640x480 with 1 Axes>"
            ],
            "image/png": "[encoded data removed]"
          },
          "metadata": {}
        }
      ]
    },
    {
      "cell_type": "code",
      "source": [
        "alpha = 0.3\n",
        "t_theory = np.sqrt( np.log(2/alpha) / (2*n_valid ))\n",
        "\n",
        "tList = np.quantile( errors, [alpha/2, 1-alpha/2] )\n",
        "t = np.linalg.norm(tList,ord=np.Inf)\n",
        "\n",
        "print(f'Theory predicts {(1-alpha)*100:.1f}% confidence if t >= {t_theory:.4f}. Empirical value: {t:.4f}')\n",
        "# As long as t_theory > t_empirical, we're OK\n",
        "#   If not, then theory is wrong (or its assumptions are wrong!)"
      ],
      "metadata": {
        "colab": {
          "base_uri": "https://localhost:8080/"
        },
        "id": "zplSSA3PWm9j",
        "outputId": "0598f572-84c4-44b2-89b7-c71d6d2fb7ea"
      },
      "execution_count": 261,
      "outputs": [
        {
          "output_type": "stream",
          "name": "stdout",
          "text": [
            "Theory predicts 70.0% confidence if t >= 0.0308. Empirical value: 0.0312\n"
          ]
        }
      ]
    },
    {
      "cell_type": "code",
      "source": [],
      "metadata": {
        "id": "qgAN6fMKXD9k"
      },
      "execution_count": null,
      "outputs": []
    }
  ]
}
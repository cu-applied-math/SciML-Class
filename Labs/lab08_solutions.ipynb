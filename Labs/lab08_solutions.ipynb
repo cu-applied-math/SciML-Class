{
  "nbformat": 4,
  "nbformat_minor": 0,
  "metadata": {
    "colab": {
      "provenance": [],
      "authorship_tag": "ABX9TyNmMVevYczpfOEz9OcIT9H0",
      "include_colab_link": true
    },
    "kernelspec": {
      "name": "python3",
      "display_name": "Python 3"
    },
    "language_info": {
      "name": "python"
    }
  },
  "cells": [
    {
      "cell_type": "markdown",
      "metadata": {
        "id": "view-in-github",
        "colab_type": "text"
      },
      "source": [
        "<a href=\"https://colab.research.google.com/github/cu-applied-math/SciML-Class/blob/lab_solutions/Labs/lab08_solutions.ipynb\" target=\"_parent\"><img src=\"https://colab.research.google.com/assets/colab-badge.svg\" alt=\"Open In Colab\"/></a>"
      ]
    },
    {
      "cell_type": "code",
      "execution_count": 2,
      "metadata": {
        "id": "1szWZLEavq2-"
      },
      "outputs": [],
      "source": [
        "import numpy as np\n",
        "from matplotlib import pyplot as plt\n",
        "from scipy.integrate import solve_ivp\n",
        "import scipy.optimize as opt"
      ]
    },
    {
      "cell_type": "markdown",
      "source": [
        "# Lab 8: solutions\n",
        "\n",
        "We'll consider the [logistic equation](https://en.wikipedia.org/wiki/Logistic_function#In_ecology:_modeling_population_growth) for describing popluation growth.\n",
        "$y(t)$ represents the population at time $t$, and satisifies the equation\n",
        "$$dy/dt = \\theta y \\left( 1 - \\frac{y}{k} \\right)$$\n",
        "where $\\theta$ is the **growth rate** (often referred to as \"r\" but we'll use $\\theta$ to match other conventions), and $k$ is a carrying capacity of the population.\n",
        "\n",
        "This is a very simple first-order ODE, covered in any good undergrad ODE class, and has a closed-form solution,\n",
        "$$y(t) = \\frac{k}{ 1 + \\frac{k-y_0}{y_0}e^{-\\theta t}}$$\n",
        "if $y(0) = y_0$ is the initial condition.\n",
        "\n",
        "**Motivation for our lab**\n",
        "We're observing a population of organisms and we know they evolve according to the logistic equation, and we know that they have a given carrying capacity of $k=10$.  We observe two data points:\n",
        "\n",
        "| time | |  population |\n",
        "| :--- | --- | :--- |\n",
        "| $t_0$ |0 | $y_0=1$ |\n",
        "| $t_1$| 2 | $y_1 = 7$ |\n",
        "\n",
        "and our scientific question is, **what was the growth rate $\\theta$**?\n",
        "\n",
        "Our lab is divided into several parts:\n",
        "- Part 1: familiarity with scipy's ODE solver\n",
        "  - This should be quick\n",
        "- Part 2 and 3a: work things out by hand\n",
        "  - This should be pen-and-paper, and should also be fairly quick\n",
        "- Part 3b: adjoint state method\n",
        "  - This may take longer. This is the heart of the lab\n",
        "- Part 4: root-finding\n",
        "  - This is \"extra\". Only do this if you finish part 3b"
      ],
      "metadata": {
        "id": "wzNpqattv0A4"
      }
    },
    {
      "cell_type": "markdown",
      "source": [
        "## Part 1a: solve with an ODE solver\n",
        "We want to plot the function and see what it looks like. Let's solve it with `scipy.integrate.solve_ivp` ([documentation](https://docs.scipy.org/doc/scipy/reference/generated/scipy.integrate.solve_ivp.html)), starting at $t=0$ with a value of $y_0 = 1$, and using $k=10$. Solve until $t=5$ using $\\theta=3$ as our \"guess\" for the growth rate for now."
      ],
      "metadata": {
        "id": "lObvKn5awxug"
      }
    },
    {
      "cell_type": "code",
      "source": [
        "k = 10\n",
        "\n",
        "def f(t,y,theta):\n",
        "    \"\"\" Logistic equation right-hand-side\n",
        "    dy/dt = theta y (1-y/k),  y(t) is the population, theta is growth rate parameter, k is karrying kapacity\n",
        "    \"\"\"\n",
        "    return theta*y*(1.-y/k)\n",
        "\n",
        "y0 = 1.\n",
        "T  = 5\n",
        "t_span = (0,T)\n",
        "theta = 3\n",
        "atol  = 1e-8\n",
        "\n",
        "# Not necessary, but we can also make a stopping criteria:\n",
        "#   we may not know a priori how long to run the ODE for, but we know\n",
        "#   the carrying capacity is k, so when we're at k (steady-state), we can stop\n",
        "def stop_if_close(t,y,*ignore):\n",
        "    return ~( np.array(y) > k - 1e-2 )  # vectorized\n",
        "stop_if_close.terminal = True\n",
        "\n",
        "soln = solve_ivp(f,t_span, [y0], dense_output=True, args=(theta,),atol=1e-8, events=stop_if_close)\n",
        "# The \"dense_output\"=True means that it will return a 'sol' object\n",
        "#   that uses the intermediate solutions in order to represent the function y(t)\n",
        "#   anywhere* we want using Hermite interpolation\n",
        "# (*  it may not be very accurate outside our time domain though... )\n",
        "\n",
        "# In case we stopped early...\n",
        "t_max = soln['t'][-1]\n",
        "T_max = np.minimum(t_max,T)\n",
        "\n",
        "t1 = 2.\n",
        "y1 = 7.\n",
        "tGrid = np.linspace( 0, T_max, num=100 )\n",
        "plt.plot( tGrid, soln['sol']( tGrid ).flatten() )\n",
        "plt.plot( [0,T_max], [y1,y1], 'k:' )\n",
        "plt.plot( [t1,t1], [0,k], 'k--' )\n",
        "plt.xlabel('time')\n",
        "plt.title(f'theta is {theta}')\n",
        "plt.show()"
      ],
      "metadata": {
        "colab": {
          "base_uri": "https://localhost:8080/",
          "height": 472
        },
        "id": "aEijtfCnwR6z",
        "outputId": "3562ce7e-2223-456a-c152-9b30265b1c9f"
      },
      "execution_count": 11,
      "outputs": [
        {
          "output_type": "display_data",
          "data": {
            "text/plain": [
              "<Figure size 640x480 with 1 Axes>"
            ],
            "image/png": "[encoded data removed]"
          },
          "metadata": {}
        }
      ]
    },
    {
      "cell_type": "markdown",
      "source": [
        "## Part 1b: solve backward with an ODE solver\n",
        "\n",
        "Using the final condition from part 1a (i.e., the value of $y$ at $T=5$), use the ODE solver to solve the same ODE still on the interval $[0,T]$ except give it the \"final condition\" rather than the initial condition.\n",
        "\n",
        "Plot both forward and backward solutions and verify they are about the same.  *Tip: you may want to adjust `atol` and/or `rtol` in the ODE solver to get increased accuracy*\n",
        "\n",
        "**Turn in this plot (to Canvas) with forward and backward solutions** to get credit for the lab"
      ],
      "metadata": {
        "id": "WeS3igPeYLXw"
      }
    },
    {
      "cell_type": "code",
      "source": [
        "theta  = 3.\n",
        "rtol = 1e-6 # default is 1e-3\n",
        "\n",
        "# First, solve it forward...\n",
        "y0 = 1. # Starting value\n",
        "T  = 3.\n",
        "soln_forward = solve_ivp(f,(0,T), [y0], dense_output=True,vectorized=True,args=(theta,),rtol=rtol)\n",
        "\n",
        "# Now solve it backwards\n",
        "yFinal = soln_forward['y'][0][-1]\n",
        "tFinal = soln_forward['t'][-1]\n",
        "t_span = (tFinal,0)\n",
        "soln_reverse = solve_ivp(f,t_span, [yFinal], dense_output=True,vectorized=True,args=(theta,),rtol=rtol)\n",
        "\n",
        "\n",
        "soln_reverse['sol']\n",
        "T_max = np.minimum(t_max,T)\n",
        "tGrid = np.linspace( 0, T_max, num=100 )\n",
        "plt.plot( tGrid, soln_forward['sol']( tGrid ).flatten(), label='Solving forward from t=0' )\n",
        "plt.plot( tGrid, soln_reverse['sol']( tGrid ).flatten(),'--',label=f'Solving backward from t={tFinal:.1f}' )\n",
        "plt.plot( [0,T_max], [y1,y1], 'k:' )\n",
        "plt.plot( [t1,t1], [0,k], 'k--' )\n",
        "plt.title(f'theta={theta}')\n",
        "plt.legend()\n",
        "plt.xlabel('time')\n",
        "plt.show()"
      ],
      "metadata": {
        "colab": {
          "base_uri": "https://localhost:8080/",
          "height": 472
        },
        "id": "xvpDlPYxYlhC",
        "outputId": "122450ef-3518-41d1-abff-e72e0afb9d9d"
      },
      "execution_count": 12,
      "outputs": [
        {
          "output_type": "display_data",
          "data": {
            "text/plain": [
              "<Figure size 640x480 with 1 Axes>"
            ],
            "image/png": "[encoded data removed]"
          },
          "metadata": {}
        }
      ]
    },
    {
      "cell_type": "markdown",
      "source": [
        "## Part 2: find the right answer\n",
        "\n",
        "Solving problems is always easier if you know the answer before you start.  In our case, we want to know what $\\theta$ is. Because we have a closed-form solution for the ODE solution $y$, you can work this out by hand.\n",
        "\n",
        "What is the correct value of $\\theta$ that generates the observed data?"
      ],
      "metadata": {
        "id": "88KALXWLY1n-"
      }
    },
    {
      "cell_type": "code",
      "source": [
        "thetaTrue = -np.log( (k/y1 - 1)/( (k-y0)/y0 )  )/2\n",
        "print(f'True optimal theta {thetaTrue:6.4f}')"
      ],
      "metadata": {
        "colab": {
          "base_uri": "https://localhost:8080/"
        },
        "id": "dLHpJBn-ZHR1",
        "outputId": "48bdcc20-c4e6-4e10-c937-d520ebb5d360"
      },
      "execution_count": 13,
      "outputs": [
        {
          "output_type": "stream",
          "name": "stdout",
          "text": [
            "True optimal theta 1.5223\n"
          ]
        }
      ]
    },
    {
      "cell_type": "markdown",
      "source": [
        "## Part 3a: find the derivative \"by hand\"\n",
        "\n",
        "Let our loss function be $\\ell(\\theta) = y(t_1)$, i.e., our \"loss\" $L$ as a function of $y(t_1)$ is simply the identity map.   We want $\\frac{d\\ell}{d\\theta}$\n",
        "\n",
        "(Why do we want this? Because then we could do root-finding on $\\ell(\\theta) = y_1$ and use Newton's method)\n",
        "\n",
        "- Work out what $\\frac{d\\ell}{d\\theta}$ is by hand (since we have the analytic form of $y$)."
      ],
      "metadata": {
        "id": "n8hA4Sx4ZL31"
      }
    },
    {
      "cell_type": "code",
      "source": [
        "dydtheta = lambda theta : 180*np.exp(-2*theta)/(1+9*np.exp(-2*theta) )**2"
      ],
      "metadata": {
        "id": "2lF1hCNMZ3br"
      },
      "execution_count": 14,
      "outputs": []
    },
    {
      "cell_type": "markdown",
      "source": [
        "## Part 3b: find the derivative via the adjoint state method\n",
        "\n",
        "For more complicated ODEs without closed-form solutions, we may not be able to find the derivative \"by hand\", so we could use the adjoint state method.  \n",
        "\n",
        "The point of today's lab is to practice that.\n",
        "\n",
        "Below is the full adjoint sensitivities \"Algorithm 2\" from Appendix C from [Neural Ordinary Differential Equations](https://arxiv.org/abs/1806.07366) by Chen, Rubanova, Bettencourt and Duvenaud (NeurIPS 2018), converted to our notation ($y$ instead of $z$) and ignoring irrelevant features:\n",
        "\n",
        "- Input dynamics parameters $\\theta$, start time $t_0$, stop time $t_1$, final state $y(t_1)$, loss gradient $\\frac{\\partial L}{\\partial y(t_1)}$\n",
        "- Define initial augmented state $s_0 = [y(t_1)), \\frac{\\partial L}{\\partial y(t_1)}, 0]$\n",
        "  - The augmented variable is $s=[y,a^{(y)}, a^{(\\theta)}]$ and $a$ are the adjoint quantities, $a^{(y)}(t) = \\frac{dL}{dy(t)}$ and $a^{(\\theta)} = \\frac{dL}{d\\theta}$\n",
        "  - Our goal is to find $a^{(\\theta)}$, e.g., at $t=t_0$, since $\\theta$ is constant\n",
        "  - define the fuction `augmented_dynamics`$(t,s,\\theta)$\n",
        "    - $s=[y,a^{(y)}, a^{(\\theta)}]$\n",
        "    - return $\\frac{ds}{dt} = f(y(t), t, \\theta), -a^{(y)}(t) \\frac{\\partial f}{\\partial y}, -a^{(y)}(t) \\frac{\\partial f}{\\partial \\theta}]$\n",
        "  - call `ODE_solver`$(s_0,$ `augmented_dynamics`$, t_1,t_0, \\theta)$\n",
        "\n",
        "\n",
        "Your **task** is to define appropriate dynamics and initial states to pass in to the ODE solver and solve, and then extracting the derviative. You can check with the results from part 3a"
      ],
      "metadata": {
        "id": "ihVrNWcTZ866"
      }
    },
    {
      "cell_type": "code",
      "source": [
        "# Setup adjoint equation\n",
        "def f(t,y,theta):\n",
        "    \"\"\" Logistic equation right-hand-side\n",
        "    dy/dt = theta y (1-y/k),  y(t) is the population, theta is growth rate parameter, k is karrying kapacity\n",
        "    \"\"\"\n",
        "    return theta*y*(1.-y/k)\n",
        "\n",
        "def dfdy(t,y,theta):\n",
        "    \"\"\" df / dy \"\"\"\n",
        "    return theta*(1-2*y/k)\n",
        "def dfdtheta(t,y,theta):\n",
        "    \"\"\" df / dtheta \"\"\"\n",
        "    return y*(1.-y/k)\n",
        "\n",
        "def f_adjoint(t,augmentedVariable, theta):\n",
        "    \"\"\" Solve augmented adjoint equation\n",
        "    \"\"\"\n",
        "    y         = augmentedVariable[0]\n",
        "    adjoint_y = augmentedVariable[1]\n",
        "    #adjoint_theta = augmentedVariable[2] # unused\n",
        "\n",
        "    dy_dt         = f(t,y,theta) # original ODE\n",
        "    dadjy_dt      = -adjoint_y * dfdy(t,y,theta)\n",
        "    dadjtheta_dt  = -adjoint_y * dfdtheta(t,y,theta)\n",
        "\n",
        "    return np.stack( (dy_dt, dadjy_dt, dadjtheta_dt) )\n",
        "\n",
        "\n",
        "theta  = 3.\n",
        "\n",
        "# First, solve it forward...\n",
        "y0 = [1.] # Starting value\n",
        "# T  = 3.\n",
        "T  = t1  # only solve until here\n",
        "soln_forward = solve_ivp(f,(0,T), y0, dense_output=True,vectorized=True,args=(theta,),rtol=rtol)\n",
        "\n",
        "# Now, backward solve of full augmented system\n",
        "yFinal = soln_forward['y'][0][-1]\n",
        "yFinal = np.stack( (yFinal, 1., 0.) ) # seed adjoints\n",
        "tFinal = soln_forward['t'][-1]\n",
        "t_span = (tFinal,0)\n",
        "soln_reverse = solve_ivp(f_adjoint,t_span, yFinal, dense_output=True,vectorized=True,args=(theta,),rtol=rtol)\n",
        "\n",
        "print(f'Our derivative value: {soln_reverse[\"y\"][2][-1]:.7f}')\n",
        "print(f'\"By hand\" value:      {dydtheta(theta):.7f}')"
      ],
      "metadata": {
        "colab": {
          "base_uri": "https://localhost:8080/"
        },
        "id": "pgHEDk_YZ8F3",
        "outputId": "657eaf45-7527-4a41-c881-48d34d2fa992"
      },
      "execution_count": 22,
      "outputs": [
        {
          "output_type": "stream",
          "name": "stdout",
          "text": [
            "Our derivative value: 0.4269190\n",
            "\"By hand\" value:      0.4269150\n"
          ]
        }
      ]
    },
    {
      "cell_type": "markdown",
      "source": [
        "## Part 4: root-finding to find $\\theta$\n",
        "\n",
        "### Part 4a: derivative-free method\n",
        "Our unknown parameter $\\theta$ is 1D, and 1D root-finding is fairly easy, even if we do not know the derivative.  Our rules-of-thumb from earlier labs is that not knowing the derivative for optimization problems is not a big deal in small dimensions, and a similar rule-of-thumb applies for root finding.\n",
        "\n",
        "So, using a `scipy.optimize` [scalar root-finding](https://docs.scipy.org/doc/scipy/reference/optimize.html#scalar-functions) algorithm that doesn't require a derivative.\n",
        "- You could do brute-force (grid search) which isn't so bad in 1D\n",
        "- You can do bisection methods, or fancier variants in the `scipy.optimize` library (`root_scalar`, `brentq`, `brenth`, `bisect`, etc.).\n",
        "\n",
        "### Part 4b: root-finding with Newton (aka Newton-Raphson)\n",
        "Since we do have the derivative information (either via the adjoint-state method or using your analytic calculation), we can use Newton-Raphson (also implemented in `scipy.optimize` as `newton`).  So **use Newton-Raphson** to find $\\theta$.\n",
        "\n",
        "Note: In 1D, the main advantage of Newton-Raphson compared to bisection or other derivative-free methods is that it quickly gives you extremely high accuracy.  \n",
        "- You may not always need extremely high accuracy\n",
        "- The accuracy might be limited by the accuracy of your function evaluation or derivative evaluation, i.e., the accuracy of the ODE solve. If we don't solve the ODE to more than 6 digits, we shouldn't expect to find $\\theta$ to 10 digits..."
      ],
      "metadata": {
        "id": "3Cxd35jJa6vL"
      }
    },
    {
      "cell_type": "code",
      "source": [
        "# 4a: not implemented, this is straightforward"
      ],
      "metadata": {
        "id": "UfBidr8PcchC"
      },
      "execution_count": 1,
      "outputs": []
    },
    {
      "cell_type": "code",
      "source": [
        "# 4b:\n",
        "\n",
        "# First, using the \"by hand\" value for the derivative\n",
        "\n",
        "y2       = lambda theta : 10./(1+9*np.exp(-2*theta) )\n",
        "dydtheta = lambda theta : 180*np.exp(-2*theta)/(1+9*np.exp(-2*theta) )**2\n",
        "\n",
        "# theta = 3 # starting guess... with our simple naive Newton, it diverges\n",
        "theta = 2\n",
        "# We could call `scipy.optimize.newton` here, or just do it ourself\n",
        "#   since it's dirt simple  (but our simple implementation doesn't have any safeguards!)\n",
        "for i in range(5):\n",
        "    theta -= (y2(theta)-y1)/dydtheta(theta)\n",
        "    print(f'Iter {i+1:3d}, theta is {theta:6.4f}, y(t1;theta) is {y2(theta):6.4f}')\n",
        "\n",
        "\n",
        "# Compare to the true value\n",
        "thetaTrue = -np.log( (k/y1 - 1)/( (k-y0)/y0 )  )/2\n",
        "print(f'True optimal theta {thetaTrue:6.4f}')"
      ],
      "metadata": {
        "colab": {
          "base_uri": "https://localhost:8080/"
        },
        "id": "4w9gMApZcjFJ",
        "outputId": "2400dc1f-e0d4-4492-d3d9-8b364d2200cd"
      },
      "execution_count": 16,
      "outputs": [
        {
          "output_type": "stream",
          "name": "stdout",
          "text": [
            "Iter   1, theta is 1.3477, y(t1;theta) is 6.2204\n",
            "Iter   2, theta is 1.5135, y(t1;theta) is 6.9632\n",
            "Iter   3, theta is 1.5222, y(t1;theta) is 6.9999\n",
            "Iter   4, theta is 1.5223, y(t1;theta) is 7.0000\n",
            "Iter   5, theta is 1.5223, y(t1;theta) is 7.0000\n",
            "True optimal theta 1.5223\n"
          ]
        }
      ]
    },
    {
      "cell_type": "code",
      "source": [
        "# 4b, extended\n",
        "# Instead of using the dydtheta \"by hand\" expression, use the adjoint state method\n",
        "# You just need to code it up nicely...\n",
        "# and then call `scipy.optimize.newton`..."
      ],
      "metadata": {
        "id": "He9eMFcagNJ5"
      },
      "execution_count": null,
      "outputs": []
    }
  ]
}
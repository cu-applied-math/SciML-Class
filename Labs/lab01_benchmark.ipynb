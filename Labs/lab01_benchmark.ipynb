{
  "nbformat": 4,
  "nbformat_minor": 0,
  "metadata": {
    "colab": {
      "provenance": [],
      "authorship_tag": "ABX9TyNOdpVARXfoCvhyDt4l3IF6",
      "include_colab_link": true
    },
    "kernelspec": {
      "name": "python3",
      "display_name": "Python 3"
    },
    "language_info": {
      "name": "python"
    }
  },
  "cells": [
    {
      "cell_type": "markdown",
      "metadata": {
        "id": "view-in-github",
        "colab_type": "text"
      },
      "source": [
        "<a href=\"https://colab.research.google.com/github/cu-applied-math/SciML-Class/blob/main/Labs/lab01_benchmark.ipynb\" target=\"_parent\"><img src=\"https://colab.research.google.com/assets/colab-badge.svg\" alt=\"Open In Colab\"/></a>"
      ]
    },
    {
      "cell_type": "code",
      "source": [
        "# Lab 1 benchmarking script for SciML class\n",
        "import torch\n",
        "import torch.utils.benchmark as benchmark\n",
        "import numpy as np\n",
        "from matplotlib import pyplot as plt\n",
        "\n",
        "import platform, subprocess, sys\n",
        "if platform.system() == 'Windows':\n",
        "  print('Windows')\n",
        "else:\n",
        "  print( platform.system())  # \"Darwin\" = Mac\n",
        "  print(platform.processor())\n",
        " # print(subprocess.run(['cat', '/proc/cpuinfo'], stdout=subprocess.PIPE).stdout.decode('utf-8')) # lengthy output\n",
        "hostname = platform.node()\n",
        "print('hostname of the computer is:', hostname)"
      ],
      "metadata": {
        "colab": {
          "base_uri": "https://localhost:8080/"
        },
        "id": "4YxODwGHROnO",
        "outputId": "d739e115-9d16-4ded-fb8f-98105e2ad2ca"
      },
      "execution_count": 20,
      "outputs": [
        {
          "output_type": "stream",
          "name": "stdout",
          "text": [
            "Linux\n",
            "x86_64\n",
            "hostname of the computer is: ef71fab15f77\n"
          ]
        }
      ]
    },
    {
      "cell_type": "code",
      "source": [
        "print(\"Torch version is\", torch.__version__)\n",
        "print(\"Numpy version is\", np.__version__)\n",
        "print(\"Python version is\", sys.version)\n",
        "# np.show_config() # not always accurate, and very lengthy output\n",
        "\n",
        "device = (\n",
        "    \"cuda\"\n",
        "    if torch.cuda.is_available()\n",
        "    else \"mps\"\n",
        "    if torch.backends.mps.is_available()\n",
        "    else \"cpu\"\n",
        ")\n",
        "print(f\"Using {device} device\")\n",
        "\n",
        "# If you have more than one thread, you can try benchmarking with all your threads,\n",
        "# and then try with just one thread (to do so, uncomment this line:)\n",
        "#torch.set_num_threads(1)\n",
        "\n",
        "num_threads = torch.get_num_threads()\n",
        "print(f\"Number of threads: {num_threads}\")"
      ],
      "metadata": {
        "id": "IFpAwhYgTdYC",
        "colab": {
          "base_uri": "https://localhost:8080/"
        },
        "outputId": "7d5ec724-9bfb-4875-e34e-00d795d7aeee"
      },
      "execution_count": 5,
      "outputs": [
        {
          "output_type": "stream",
          "name": "stdout",
          "text": [
            "Torch version is 2.4.0+cu121\n",
            "Numpy version is 1.26.4\n",
            "Python version is 3.10.12 (main, Jul 29 2024, 16:56:48) [GCC 11.4.0]\n",
            "Using cpu device\n",
            "Number of threads: 1\n"
          ]
        }
      ]
    },
    {
      "cell_type": "code",
      "source": [
        "nReps = 10\n",
        "\n",
        "nList = np.logspace(2, 3.8, 15, dtype=int)\n",
        "times = np.zeros(len(nList))\n",
        "\n",
        "for i,n in enumerate(nList):\n",
        "\n",
        "  A = torch.randn(n, n, device=device)\n",
        "  B = torch.randn(n, n, device=device)\n",
        "\n",
        "  # Following tutorial at https://pytorch.org/tutorials/recipes/recipes/benchmark.html\n",
        "  t = benchmark.Timer(\n",
        "      stmt=\"torch.matmul(A, B)\",\n",
        "      setup=\"import torch\",\n",
        "      num_threads=num_threads,\n",
        "      globals={\"A\": A, \"B\": B},\n",
        "  )\n",
        "  results = t.timeit(nReps)\n",
        "  #print(results)\n",
        "  times[i] = results.mean\n",
        "  print(f\"i is {i+1:2d} of {len(nList)}, n = {n:5d}, time = {times[i]:.3e}\")\n"
      ],
      "metadata": {
        "colab": {
          "base_uri": "https://localhost:8080/"
        },
        "id": "-EKItaN7zIoN",
        "outputId": "79333533-ab61-4065-c30e-14ed8e8935ff"
      },
      "execution_count": 15,
      "outputs": [
        {
          "output_type": "stream",
          "name": "stdout",
          "text": [
            "i is  0 of 15, n =   100, time = 7.087e-05\n",
            "i is  1 of 15, n =   127, time = 2.230e-04\n",
            "i is  2 of 15, n =   163, time = 1.777e-04\n",
            "i is  3 of 15, n =   209, time = 3.246e-04\n",
            "i is  4 of 15, n =   268, time = 6.267e-04\n",
            "i is  5 of 15, n =   343, time = 1.592e-03\n",
            "i is  6 of 15, n =   439, time = 2.800e-03\n",
            "i is  7 of 15, n =   562, time = 6.170e-03\n",
            "i is  8 of 15, n =   719, time = 1.241e-02\n",
            "i is  9 of 15, n =   921, time = 2.488e-02\n",
            "i is 10 of 15, n =  1178, time = 5.150e-02\n",
            "i is 11 of 15, n =  1508, time = 1.036e-01\n",
            "i is 12 of 15, n =  1930, time = 2.160e-01\n",
            "i is 13 of 15, n =  2470, time = 5.319e-01\n",
            "i is 14 of 15, n =  3162, time = 9.842e-01\n"
          ]
        }
      ]
    },
    {
      "cell_type": "code",
      "source": [
        "plt.loglog(nList,times,'o-')\n",
        "plt.xlabel('Size n')\n",
        "plt.ylabel('Time (s) for matrix multiply')\n",
        "str = f'device = {device}, num_threads = {num_threads}, OS is {platform.system()}'\n",
        "plt.title(str)\n",
        "plt.grid()\n",
        "plt.ylim( [1e-5, 10] ) # make it consistent\n",
        "plt.savefig(f'lab01_matmul_time_{hostname}.pdf') # PDFs preferred over PNG since they embod fonts rather than rasterize them\n",
        "# plt.show()"
      ],
      "metadata": {
        "colab": {
          "base_uri": "https://localhost:8080/",
          "height": 476
        },
        "id": "fpzXqSOu22aB",
        "outputId": "b34c7efc-f4ca-435a-fe50-8858eb0fff46"
      },
      "execution_count": 21,
      "outputs": [
        {
          "output_type": "display_data",
          "data": {
            "text/plain": [
              "<Figure size 640x480 with 1 Axes>"
            ],
            "image/png": "[encoded data removed]"
          },
          "metadata": {}
        }
      ]
    },
    {
      "cell_type": "code",
      "source": [],
      "metadata": {
        "id": "O8ZtchJm23M3"
      },
      "execution_count": null,
      "outputs": []
    }
  ]
}
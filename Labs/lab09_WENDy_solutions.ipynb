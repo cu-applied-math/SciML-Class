{
  "nbformat": 4,
  "nbformat_minor": 0,
  "metadata": {
    "colab": {
      "provenance": [],
      "authorship_tag": "ABX9TyN3Ey0nFDM/VD08re29aJ5+",
      "include_colab_link": true
    },
    "kernelspec": {
      "name": "python3",
      "display_name": "Python 3"
    },
    "language_info": {
      "name": "python"
    }
  },
  "cells": [
    {
      "cell_type": "markdown",
      "metadata": {
        "id": "view-in-github",
        "colab_type": "text"
      },
      "source": [
        "<a href=\"https://colab.research.google.com/github/cu-applied-math/SciML-Class/blob/lab_solutions/Labs/lab09_WENDy_solutions.ipynb\" target=\"_parent\"><img src=\"https://colab.research.google.com/assets/colab-badge.svg\" alt=\"Open In Colab\"/></a>"
      ]
    },
    {
      "cell_type": "code",
      "execution_count": 2,
      "metadata": {
        "id": "V7i0YdcLPfgY"
      },
      "outputs": [],
      "source": [
        "import numpy as np\n",
        "from matplotlib import pyplot as plt\n",
        "import torch\n",
        "import torch.nn as nn\n",
        "import torch.nn.functional as F\n",
        "from torch.utils.data import DataLoader, Dataset\n",
        "from numpy.linalg import norm\n",
        "\n",
        "from scipy.integrate import solve_ivp, trapezoid\n",
        "\n",
        "import jax\n",
        "jax.config.update(\"jax_enable_x64\", True)\n",
        "import numpy as np\n",
        "import jax.numpy as jnp"
      ]
    },
    {
      "cell_type": "markdown",
      "source": [
        "# Lab 9: data-driven system identification\n",
        "We'll take the same setup as lab 8, looking at the logistic differential equation\n",
        "$$dy/dt = \\theta y \\left( 1 - y/k \\right)$$\n",
        "for a carrying capacity $k=10$, initial condition $y(0) = y_0 = 1$, and an **unknown** growth rate $\\theta$.\n",
        "\n",
        "We assume that we have some (slightly noisy) observations $\\{(t_i,y(t_i))\\}_{i=1}^n$ of the true solution. From these observations, the goal is to estimate the growth rate $\\theta$."
      ],
      "metadata": {
        "id": "99LKnxyteyyc"
      }
    },
    {
      "cell_type": "markdown",
      "source": [
        "## Part 1: generate the data\n",
        "Solve the logistic ODE on the domain $[0,T=3]$ using $y_0=1$, $k=10$ and $\\theta=\\pi$.\n",
        "\n",
        "From the solution collect `n_obs=21` observations $\\{(t_i,y(t_i))\\}_{i=1}^{n_\\text{obs}}$ from an equispaced time grid (later you can try adjusting `n_obs` to smaller/larger values), and add some Gaussian noise of standard deviation $0.01$ (again, later you can try adjusting the amount of noise)"
      ],
      "metadata": {
        "id": "92SeP9NTSkuo"
      }
    },
    {
      "cell_type": "code",
      "source": [
        "rng = np.random.default_rng(123456)\n",
        "karryingKapacity = 10 # carrying capacity, a fixed parameter\n",
        "\n",
        "def f(t,y,theta):\n",
        "    \"\"\" Logistic equation right-hand-side\n",
        "    dy/dt = theta y (1-y/k),  y(t) is the population, theta is growth rate parameter, k is karrying kapacity\n",
        "    \"\"\"\n",
        "    return theta*y*(1.-y/karryingKapacity)\n",
        "\n",
        "y0 = 1. # Starting value\n",
        "\n",
        "theta_true = np.pi # true value... (different than last week)\n",
        "theta = theta_true\n",
        "\n",
        "T  = 3.\n",
        "t_span = (0,T)\n",
        "\n",
        "soln = solve_ivp(f,t_span, [y0], dense_output=True,vectorized=True,\n",
        "    args=(theta,), rtol=1e-10,atol=1e-10)\n",
        "t_max = soln['t'][-1]\n",
        "n_obs = 21 # with 101 points, both SINDy and WENDy work. With 11 points, WENDy isn't good\n",
        "t_obs = np.linspace(0,T,n_obs)\n",
        "y_obs = soln.sol(t_obs)[0]\n",
        "# add a small amount of noise\n",
        "sigma = 0.01\n",
        "y_obs = y_obs + sigma*rng.standard_normal(y_obs.shape)\n",
        "\n",
        "T_max = np.minimum(t_max,T)\n",
        "tGrid = np.linspace( 0, T_max, num=100 )\n",
        "plt.plot( tGrid, soln['sol']( tGrid ).flatten() )\n",
        "plt.xlabel('time')\n",
        "plt.title(f'theta is {theta:.5f}')\n",
        "plt.plot( t_obs, y_obs, 'o', label=f'noisy data, $\\sigma=${sigma:.3f}')\n",
        "plt.legend()\n",
        "plt.show()"
      ],
      "metadata": {
        "colab": {
          "base_uri": "https://localhost:8080/",
          "height": 472
        },
        "id": "_BGHnLCSPxBi",
        "outputId": "bf6beb31-b84f-4bff-f674-764cd8e85363"
      },
      "execution_count": 3,
      "outputs": [
        {
          "output_type": "display_data",
          "data": {
            "text/plain": [
              "<Figure size 640x480 with 1 Axes>"
            ],
            "image/png": "[encoded data removed]"
          },
          "metadata": {}
        }
      ]
    },
    {
      "cell_type": "markdown",
      "source": [
        "## Part 2: solve with SINDy\n",
        "\n",
        "[Sparse identification of non-linear dynamics](https://en.wikipedia.org/wiki/Sparse_identification_of_non-linear_dynamics) (\"SINDy\") is one of several methods that estimates an equation from data, i.e., to estimate $y' = f(t,y)$.  You give it a dictionary of candidate terms that will comprise the RHS $f$ and it will estimate which ones are \"active\" (the \"sparse\" part) and then find their coefficient.\n",
        "\n",
        "We'll do a simplified setting: we know that $f(t,y)$ is of the form $y(1-y/k)$ but we just don't know the coefficient. So the idea is very simple: collect observations $y'(t_i)$ and RHS $y(t_i)(1-y(t_i)/k)$ for $\\{t_i\\}_{i=1}^{n_\\text{obs}}$ and then do a least-squares regression.\n",
        "\n",
        "The only issue is how do we know $y'(t_i)$ given that our data is $\\{(t_i,y(t_i))\\}_{i=1}^{n_\\text{obs}}$?\n",
        "\n",
        "The quick-and-dirty answer is to approximate it with finite differences.\n",
        "\n",
        "## Part 2a: write a finite difference routine\n",
        "Give a data vector of equally spaced points $y(t_i)$, and a spacing parameter $\\Delta t$ (where $t_i = \\Delta t + t_{i-1}$), right a routine that returns a finite difference approximation of $dy/dt$ at these same time points.\n",
        "\n",
        "You can do a simple version (forward finite differences) or something higher order like centered differences (see my [Ch4_FiniteDifference Notes](https://github.com/stephenbeckr/numerical-analysis-class/blob/master/Notes/Ch4_FiniteDifferences_more.pdf) from undergrad numerical analysis for ideas on how to handle the first/last node)\n",
        "\n",
        "You can test your code because in our academic setting we actually know $y'$ (since we know the ODE exactly!)"
      ],
      "metadata": {
        "id": "S9QKg2BwgBqE"
      }
    },
    {
      "cell_type": "code",
      "source": [
        "def centered_differences(y,tGrid=None,dt=None, fancyBoundaryTerms = False):\n",
        "    \"\"\" O(h^2) finite difference approximation of derivative from discrete points\n",
        "    y(t)\n",
        "    \"\"\"\n",
        "    if fancyBoundaryTerms and len(y) >= 3:\n",
        "        # proper O(h^2)\n",
        "        dy1    = -y[2]/2 + 2*y[1]-3*y[0]/2\n",
        "        dyLast = y[-3]/2 - 2*y[-2]+3*y[-1]/2\n",
        "    else:\n",
        "        dy1    = y[1]-y[0]\n",
        "        dyLast = y[-1] - y[-2]\n",
        "    dy = np.concatenate( ([dy1], (y[2:] - y[:-2])/2, [dyLast]) )\n",
        "    if dt is not None:\n",
        "        dy /= dt\n",
        "    elif tGrid is not None:\n",
        "        dt = tGrid[1] - tGrid[0]\n",
        "        dy /= dt\n",
        "    return dy\n",
        "\n",
        "def forward_differences(y,tGrid=None,dt=None):\n",
        "    \"\"\" O(h) finite difference approximation of derivative from discrete points\n",
        "    y(t)\n",
        "    \"\"\"\n",
        "    # especially bad at boundaries\n",
        "    dy = np.concatenate( (y[1:] - y[:-1],  [y[-1] - y[-2]]) )\n",
        "    if dt is not None:\n",
        "        dy /= dt\n",
        "    elif tGrid is not None:\n",
        "        dt = tGrid[1] - tGrid[0]\n",
        "        dy /= dt\n",
        "    return dy\n",
        "\n",
        "def myLeastSquares(A,b):\n",
        "    return np.linalg.lstsq(A.reshape(-1,1),b,rcond=None)[0][0]"
      ],
      "metadata": {
        "id": "YAxw4A2WTCH6"
      },
      "execution_count": 12,
      "outputs": []
    },
    {
      "cell_type": "code",
      "source": [
        "# Is the finite difference a good approximation? We know the true derivative, so we can check\n",
        "\n",
        "print( centered_differences(y_obs,t_obs) - f(t_obs,y_obs,theta_true) )\n",
        "# with better boundary terms, it does better:\n",
        "print( centered_differences(y_obs,t_obs, fancyBoundaryTerms=True) - f(t_obs,y_obs,theta_true) )\n",
        "\n",
        "# compare to forward differences\n",
        "print( forward_differences(y_obs,t_obs) - f(t_obs,y_obs,theta_true) )"
      ],
      "metadata": {
        "colab": {
          "base_uri": "https://localhost:8080/"
        },
        "id": "D6GM5KGOiSgu",
        "outputId": "4332a760-2622-4324-aef2-65f91bd261a6"
      },
      "execution_count": 8,
      "outputs": [
        {
          "output_type": "stream",
          "name": "stdout",
          "text": [
            "[ 1.22176171 -0.0427221  -0.47428065 -0.35551302  0.08593954  0.21182661\n",
            "  0.10426724  0.08022699  0.12562727  0.02439845 -0.08486494]\n",
            "[-0.1042597  -0.0427221  -0.47428065 -0.35551302  0.08593954  0.21182661\n",
            "  0.10426724  0.08022699  0.12562727  0.02439845 -0.15156348]\n",
            "[ 1.22176171  1.28329931  0.01305553 -1.27725015 -1.20235962 -0.69387291\n",
            " -0.3217207  -0.05690127  0.00819238 -0.04230009 -0.08486494]\n"
          ]
        }
      ]
    },
    {
      "cell_type": "markdown",
      "source": [
        "## Part 2b: find the coefficient, SINDy style\n",
        "\n",
        "Now regress, and find the coefficient. Compare it to the true coefficient"
      ],
      "metadata": {
        "id": "qGJ0MhxQQ5N5"
      }
    },
    {
      "cell_type": "code",
      "source": [
        "dydt = centered_differences(y_obs,t_obs, fancyBoundaryTerms=True)\n",
        "\n",
        "# Regress dydt = theta*y*(1-y/k)\n",
        "A = y_obs*(1-y_obs/karryingKapacity)\n",
        "theta_SINDy = myLeastSquares(A,dydt)\n",
        "print(f'Using {len(t_obs)} points, {theta_SINDy=:.6f} while {theta_true=:.6f}')\n",
        "print(f'Noise was {sigma=:.3f}')"
      ],
      "metadata": {
        "colab": {
          "base_uri": "https://localhost:8080/"
        },
        "id": "uRRDT8DKQ64D",
        "outputId": "71929082-d415-44e1-90c0-2e2759a00000"
      },
      "execution_count": 13,
      "outputs": [
        {
          "output_type": "stream",
          "name": "stdout",
          "text": [
            "Using 21 points, theta_SINDy=3.116240 while theta_true=3.141593\n",
            "Noise was sigma=0.010\n"
          ]
        }
      ]
    },
    {
      "cell_type": "markdown",
      "source": [
        "## Part 2: Weak form (WENDy style)\n",
        "An alternative approach to avoid the finite difference calculation (since that won't be accurate if $\\Delta t$ is large or if there is a lot of noise $\\sigma$) is to use the weak form.  In the case of just estimating a coefficient, this is described in the \"WENDy\" paper [Direct Estimation of Parameters in ODE Models Using WENDy: Weak-form Estimation of Nonlinear Dynamics](https://arxiv.org/abs/2302.13271) 2023 by CU Applied Math dept authors David Bortz, Daniel A. Messenger, Vanja Dukic.\n",
        "\n",
        "The main idea is that we will create a library of test functions $\\{\\varphi_j\\}_{j=1}^{n_\\text{test}}$ that are smooth and vanish on the boundaries of the interval $[0,T]$ and do a lot of integration by parts.  We defin the inner product $\\langle f, g \\rangle := \\int_0^T f(t) g(t)dt$, so the integration-by-parts trick is that\n",
        "$$ \\langle \\varphi, y' \\rangle := \\int_0^T \\varphi(t)y'(t)dt\n",
        "= \\varphi(t)y(t)\\Big|_{t=0}^T - \\int_0^T \\varphi'(t)y(t)dt = -\\langle \\varphi', y\\rangle.\n",
        "$$\n",
        "\n",
        "So consider the ODE $y' = \\theta y (1-y/k)$. Then it's also true that for every test function,\n",
        "$$\\langle \\varphi, y'\\rangle = \\theta \\langle \\varphi, y(1-y/k)\\rangle$$\n",
        "so using our integration-by-parts trick, this means\n",
        "$$-\\langle \\varphi', y\\rangle = \\theta \\langle \\varphi, y(1-y/k)\\rangle.$$\n",
        "\n",
        "We choose $\\varphi$ (e.g., with a formula) so we know $\\varphi'$ (we'll use `jax`'s autodiff). We then need to estimate these **integrals** from the data instead of estimating **derivatives**.  We can use a default quadrature routine for the integrals, e.g., `scipy.integrate.trapezoid`.\n",
        "\n",
        "So now we do this for a few test functions $\\varphi_j$ and then solve a least-squares equation to estimate $\\theta$.\n",
        "\n",
        "We'll do some simple test functions; see the WENDy paper for more advanced ideas (and efficient implementations with the FFT)"
      ],
      "metadata": {
        "id": "gVhXC1LSRePP"
      }
    },
    {
      "cell_type": "code",
      "source": [
        "def phi(t,mode):\n",
        "    \"\"\" mode>0 an integer \"\"\"\n",
        "    return jnp.sin(mode*jnp.pi*t/T)\n",
        "dphi  = jax.vmap(jax.grad(phi,argnums=0), in_axes=(0,None))\n",
        "\n",
        "\n",
        "mode = 4\n",
        "tGrid = jnp.linspace(0,T,100)\n",
        "plt.plot( tGrid, phi(tGrid,mode), label=f'test function #{mode}' )\n",
        "plt.plot( tGrid, dphi(tGrid,mode),'--', label='derivative of test function' )\n",
        "plt.legend()\n",
        "plt.show()"
      ],
      "metadata": {
        "colab": {
          "base_uri": "https://localhost:8080/",
          "height": 430
        },
        "id": "UQw2N_urRURy",
        "outputId": "2df7e836-fbd3-4848-b385-9a759c5b7d4c"
      },
      "execution_count": 6,
      "outputs": [
        {
          "output_type": "display_data",
          "data": {
            "text/plain": [
              "<Figure size 640x480 with 1 Axes>"
            ],
            "image/png": "[encoded data removed]"
          },
          "metadata": {}
        }
      ]
    },
    {
      "cell_type": "markdown",
      "source": [
        "## Part 2a: integrals\n",
        "For any test function $\\varphi$,\n",
        "1. estimate $\\langle \\varphi, y'\\rangle$ using the data.  (We don't directly have data for $y'$, but for now you can cheat and use the fact that we know the ODE exactly)\n",
        "2. estimate -$\\langle \\varphi', y\\rangle$ using the data (this we **can** do from the data directly).\n",
        "3. are the above two quantities about the same?\n",
        "\n",
        "Use `trapezoid` for the [quadrature](https://en.wikipedia.org/wiki/Numerical_integration)"
      ],
      "metadata": {
        "id": "r5Muc7sTln0z"
      }
    },
    {
      "cell_type": "code",
      "source": [
        "mode = 4\n",
        "\n",
        "lhs = phi(t_obs,mode)\n",
        "rhs = f(t_obs,y_obs,theta_true)  # the true derivative (cheating)\n",
        "integral_1 = trapezoid( lhs * rhs, t_obs)\n",
        "\n",
        "lhs = dphi(t_obs,mode)\n",
        "rhs = y_obs # this is actually observable in practice\n",
        "integral_2 = -trapezoid( lhs * rhs, t_obs)\n",
        "\n",
        "print(f'{integral_1=:.3f}')\n",
        "print(f'{integral_2=:.3f}')"
      ],
      "metadata": {
        "colab": {
          "base_uri": "https://localhost:8080/"
        },
        "id": "8Z6Y9FKumaQY",
        "outputId": "890c8a14-7e17-46f5-f3e1-0df805a037ed"
      },
      "execution_count": 9,
      "outputs": [
        {
          "output_type": "stream",
          "name": "stdout",
          "text": [
            "integral_1=0.737\n",
            "integral_2=0.765\n"
          ]
        }
      ]
    },
    {
      "cell_type": "markdown",
      "source": [
        "## Part 2b: solve for $\\theta$ via the WENDy approach"
      ],
      "metadata": {
        "id": "QH6SShLOmHVF"
      }
    },
    {
      "cell_type": "code",
      "source": [
        "# Setup WENDy\n",
        "modeList = np.arange(1,19 ) # choose modes 1 -- 18\n",
        "A   = np.zeros( (len(modeList),1))\n",
        "RHS = np.zeros( len(modeList) )\n",
        "for (i,mode) in enumerate(modeList):\n",
        "    RHS[i] = -trapezoid( y_obs * dphi(t_obs,mode), t_obs )\n",
        "    A[i]   = trapezoid( y_obs*(1-y_obs/karryingKapacity) * phi(t_obs,mode), t_obs )\n",
        "\n",
        "theta_WENDy = myLeastSquares(A,RHS)\n",
        "\n",
        "print(f'Using {len(t_obs)} points, ...')\n",
        "print(f' {theta_SINDy=:.6f}')\n",
        "print(f' {theta_WENDy=:.6f}')\n",
        "print(f'  {theta_true=:.6f}')\n",
        "print(f'Noise was {sigma=:.3f}')"
      ],
      "metadata": {
        "colab": {
          "base_uri": "https://localhost:8080/"
        },
        "id": "nSwBMXonRwYN",
        "outputId": "89273fc4-c316-4b80-d91c-cc3536160d4f"
      },
      "execution_count": 14,
      "outputs": [
        {
          "output_type": "stream",
          "name": "stdout",
          "text": [
            "Using 21 points, ...\n",
            " theta_SINDy=3.116240\n",
            " theta_WENDy=3.169252\n",
            "  theta_true=3.141593\n",
            "Noise was sigma=0.010\n"
          ]
        }
      ]
    },
    {
      "cell_type": "code",
      "source": [],
      "metadata": {
        "id": "GTyIDNijR4rh"
      },
      "execution_count": 19,
      "outputs": []
    }
  ]
}
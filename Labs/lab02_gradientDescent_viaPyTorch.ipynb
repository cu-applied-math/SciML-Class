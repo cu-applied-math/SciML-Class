{
  "cells": [
    {
      "cell_type": "markdown",
      "metadata": {
        "id": "view-in-github",
        "colab_type": "text"
      },
      "source": [
        "<a href=\"https://colab.research.google.com/github/cu-applied-math/SciML-Class/blob/lab_solutions/Labs/lab02_gradientDescent_viaPyTorch.ipynb\" target=\"_parent\"><img src=\"https://colab.research.google.com/assets/colab-badge.svg\" alt=\"Open In Colab\"/></a>"
      ]
    },
    {
      "cell_type": "markdown",
      "metadata": {
        "id": "zMpr9s0IQ1uD"
      },
      "source": [
        "# Lab 2 solutions\n",
        "Write a gradient descent code in PyTorch to minimize a least-squares objective"
      ]
    },
    {
      "cell_type": "code",
      "execution_count": 1,
      "metadata": {
        "id": "DxJplQS_Q1uE",
        "outputId": "ade11606-85b9-4761-95c5-1fbde339232e",
        "colab": {
          "base_uri": "https://localhost:8080/"
        }
      },
      "outputs": [
        {
          "output_type": "stream",
          "name": "stdout",
          "text": [
            "Torch version is 2.4.0+cu121\n",
            "Numpy version is 1.26.4\n",
            "Python version is 3.10.12 (main, Jul 29 2024, 16:56:48) [GCC 11.4.0]\n"
          ]
        }
      ],
      "source": [
        "# https://pytorch.org/tutorials/beginner/examples_autograd/polynomial_custom_function.html\n",
        "# also looking at https://pytorch.org/tutorials/beginner/introyt/autogradyt_tutorial.html\n",
        "# and https://machinelearningmastery.com/implementing-gradient-descent-in-pytorch/ for simple way to do it\n",
        "\n",
        "import torch\n",
        "import matplotlib.pyplot as plt\n",
        "# import matplotlib.ticker as ticker\n",
        "# import math\n",
        "import sys\n",
        "import numpy as np\n",
        "print(\"Torch version is\", torch.__version__)\n",
        "print(\"Numpy version is\", np.__version__)\n",
        "print(\"Python version is\", sys.version)"
      ]
    },
    {
      "cell_type": "markdown",
      "metadata": {
        "id": "Q-V8yJG-Q1uF"
      },
      "source": [
        "## Setup the function, and then experiment"
      ]
    },
    {
      "cell_type": "code",
      "execution_count": 18,
      "metadata": {
        "id": "ziTpKB0oQ1uG",
        "outputId": "7158da9b-a9dd-41af-d924-18e1cb594744",
        "colab": {
          "base_uri": "https://localhost:8080/"
        }
      },
      "outputs": [
        {
          "output_type": "stream",
          "name": "stdout",
          "text": [
            "For problem 1, condition number is 5.61e+00\n",
            "For problem 2, condition number is 1.18e+07\n"
          ]
        }
      ],
      "source": [
        "n = int(1e3)\n",
        "d = 500\n",
        "G = torch.randn( (n,d) )  # requires_grad=False is implicit\n",
        "Gtilde = torch.roll(G,1,dims=1)\n",
        "A1 = G.detach()\n",
        "A2 = G.detach() + (1-1e-7)*Gtilde.detach()\n",
        "print(f'For problem 1, condition number is {torch.linalg.cond(A1).item():.2e}')\n",
        "print(f'For problem 2, condition number is {torch.linalg.cond(A2).item():.2e}')\n",
        "b = torch.randn( (n,1) )\n",
        "\n",
        "def f1(x):\n",
        "    return torch.linalg.norm( A1 @ x - b )**2\n",
        "\n",
        "def f2(x):\n",
        "    return torch.linalg.norm( A2 @ x - b )**2\n",
        "\n",
        "def gradient_by_hand_prob1(x):\n",
        "    return 2*A1.T @ (A1 @ x - b)\n",
        "\n",
        "def gradient_by_hand_prob2(x):\n",
        "    return 2*A2.T @ (A2 @ x - b)"
      ]
    },
    {
      "cell_type": "markdown",
      "source": [
        "#### Play around with things a bit\n",
        "You can ignore this"
      ],
      "metadata": {
        "id": "6Rm3AK-2Pai-"
      }
    },
    {
      "cell_type": "code",
      "execution_count": null,
      "metadata": {
        "id": "mxBv30BCQ1uG",
        "outputId": "d21c1844-d24a-4f7f-ba97-b5456814a82d"
      },
      "outputs": [
        {
          "data": {
            "text/plain": [
              "(tensor(1005.5995, grad_fn=<PowBackward0>), tensor(1005.5995))"
            ]
          },
          "execution_count": 60,
          "metadata": {},
          "output_type": "execute_result"
        }
      ],
      "source": [
        "# x = torch.randn( d, requires_grad=True ) # Careful, the shape (d,) is incompatible with the shape (d,1) that we used above\n",
        "x = torch.randn( (d,1) , requires_grad=True )\n",
        "\n",
        "f(x), f(x.detach() )"
      ]
    },
    {
      "cell_type": "code",
      "execution_count": null,
      "metadata": {
        "id": "msSB3zOzQ1uG",
        "outputId": "2d079f33-89e8-4e09-edd5-e7162380a419"
      },
      "outputs": [
        {
          "name": "stdout",
          "output_type": "stream",
          "text": [
            "[[ 0.71  0.71]\n",
            " [ 3.59  3.59]\n",
            " [-1.59 -1.59]\n",
            " [-1.97 -1.97]\n",
            " [ 0.02  0.02]\n",
            " [-2.99 -2.99]\n",
            " [-0.3  -0.3 ]\n",
            " [-1.69 -1.69]\n",
            " [-0.01 -0.01]\n",
            " [-1.08 -1.08]\n",
            " [ 1.32  1.32]\n",
            " [-0.84 -0.84]\n",
            " [-2.69 -2.69]\n",
            " [-1.78 -1.78]\n",
            " [-1.6  -1.6 ]\n",
            " [-1.35 -1.35]\n",
            " [ 0.04  0.04]\n",
            " [ 2.44  2.44]\n",
            " [-1.33 -1.33]\n",
            " [-2.28 -2.28]]\n"
          ]
        }
      ],
      "source": [
        "x.grad.data.zero_()\n",
        "\n",
        "out = f(x)\n",
        "out.backward() # calls autodiff\n",
        "# x.grad # and then we can request the gradient (with respect to x)\n",
        "g1 = x.grad.numpy() # note that this is float32 (i.e., single, not double, precision!)\n",
        "\n",
        "g2 = gradient_by_hand(x.detach() )\n",
        "# g2 = gradient_by_hand(x) # works, but since we don't need gradient, good practice to detach first\n",
        "# g2 = gradient_by_hand(x.numpy() ) # won't work, must detach first\n",
        "\n",
        "with np.printoptions(precision=2, suppress=True):\n",
        "    print(np.hstack((g1,g2)))\n"
      ]
    },
    {
      "cell_type": "markdown",
      "metadata": {
        "id": "aI4XcYQwQ1uH"
      },
      "source": [
        "## Try running gradient descent (written ourselves)"
      ]
    },
    {
      "cell_type": "code",
      "source": [
        "def gradient_descent(f, stepsize, maxits=1e3, printEvery=50, trueX=None):\n",
        "  maxits = int(maxits)\n",
        "  x = torch.zeros( (d,1) , requires_grad=True )  # d is a global variable for now\n",
        "  # x.grad.data.zero_()\n",
        "  lossHist = []\n",
        "  errHist  = []\n",
        "  if trueX is not None:\n",
        "    error    = lambda x : torch.linalg.norm(x-trueX)\n",
        "  else:\n",
        "    error    = lambda x : 0\n",
        "\n",
        "  for k in range(maxits):\n",
        "    loss = f(x)\n",
        "    lossHist.append( loss.item() )\n",
        "    errHist.append( error(x.data) ) # both x and x.data work\n",
        "    if k % printEvery == 0:\n",
        "        print(f'Iteration {k+1:4d}, objective function is {loss.item():.2e}, error is {error(x.data):.2e}')\n",
        "\n",
        "    loss.backward() # calls autodiff\n",
        "    g = x.grad.data\n",
        "    # alternatively:\n",
        "    # g = gradient_by_hand(x.detach() ) # x.data or just x also work\n",
        "\n",
        "    # take gradient descent step\n",
        "    # x -= stepsize * g     # NO\n",
        "    # x = x - stepsize * g  # NO.  After this, x.isleaf is false\n",
        "    x.data = x.data - stepsize * g  # YES\n",
        "    x.grad.data.zero_()\n",
        "  return lossHist, errHist"
      ],
      "metadata": {
        "id": "mmvPZCy0Pl8e"
      },
      "execution_count": 22,
      "outputs": []
    },
    {
      "cell_type": "code",
      "execution_count": 23,
      "metadata": {
        "id": "4fdMdmvYQ1uH",
        "outputId": "d28a54e9-4889-4f55-82cc-4626cad435a8",
        "colab": {
          "base_uri": "https://localhost:8080/"
        }
      },
      "outputs": [
        {
          "output_type": "stream",
          "name": "stdout",
          "text": [
            "Iteration    1, objective function is 9.89e+02, error is 1.05e+00\n",
            "Iteration   51, objective function is 4.41e+02, error is 7.05e-02\n",
            "Iteration  101, objective function is 4.41e+02, error is 1.03e-02\n",
            "Iteration  151, objective function is 4.41e+02, error is 1.70e-03\n",
            "Iteration  201, objective function is 4.41e+02, error is 2.94e-04\n",
            "Iteration  251, objective function is 4.41e+02, error is 5.27e-05\n",
            "Iteration  301, objective function is 4.41e+02, error is 9.58e-06\n",
            "Iteration  351, objective function is 4.41e+02, error is 1.85e-06\n",
            "Iteration  401, objective function is 4.41e+02, error is 8.97e-07\n",
            "Iteration  451, objective function is 4.41e+02, error is 8.39e-07\n",
            "Iteration  501, objective function is 4.41e+02, error is 8.49e-07\n",
            "Iteration  551, objective function is 4.41e+02, error is 8.63e-07\n",
            "Iteration  601, objective function is 4.41e+02, error is 8.50e-07\n",
            "Iteration  651, objective function is 4.41e+02, error is 8.48e-07\n",
            "Iteration  701, objective function is 4.41e+02, error is 8.48e-07\n",
            "Iteration  751, objective function is 4.41e+02, error is 8.50e-07\n",
            "Iteration  801, objective function is 4.41e+02, error is 8.39e-07\n",
            "Iteration  851, objective function is 4.41e+02, error is 8.37e-07\n",
            "Iteration  901, objective function is 4.41e+02, error is 8.41e-07\n",
            "Iteration  951, objective function is 4.41e+02, error is 8.50e-07\n",
            "Iteration    1, objective function is 9.89e+02, error is 6.44e+00\n",
            "Iteration   51, objective function is 5.05e+02, error is 6.32e+00\n",
            "Iteration  101, objective function is 4.84e+02, error is 6.27e+00\n",
            "Iteration  151, objective function is 4.76e+02, error is 6.23e+00\n",
            "Iteration  201, objective function is 4.72e+02, error is 6.20e+00\n",
            "Iteration  251, objective function is 4.69e+02, error is 6.17e+00\n",
            "Iteration  301, objective function is 4.67e+02, error is 6.15e+00\n",
            "Iteration  351, objective function is 4.66e+02, error is 6.12e+00\n",
            "Iteration  401, objective function is 4.65e+02, error is 6.10e+00\n",
            "Iteration  451, objective function is 4.64e+02, error is 6.07e+00\n",
            "Iteration  501, objective function is 4.63e+02, error is 6.05e+00\n",
            "Iteration  551, objective function is 4.62e+02, error is 6.03e+00\n",
            "Iteration  601, objective function is 4.62e+02, error is 6.01e+00\n",
            "Iteration  651, objective function is 4.61e+02, error is 5.99e+00\n",
            "Iteration  701, objective function is 4.60e+02, error is 5.97e+00\n",
            "Iteration  751, objective function is 4.60e+02, error is 5.95e+00\n",
            "Iteration  801, objective function is 4.60e+02, error is 5.93e+00\n",
            "Iteration  851, objective function is 4.59e+02, error is 5.91e+00\n",
            "Iteration  901, objective function is 4.59e+02, error is 5.89e+00\n",
            "Iteration  951, objective function is 4.58e+02, error is 5.88e+00\n"
          ]
        }
      ],
      "source": [
        "# Try gradient descent\n",
        "L1 = torch.linalg.norm(A1,ord=2)**2\n",
        "L2 = torch.linalg.norm(A2,ord=2)**2\n",
        "\n",
        "stepsize1 = .5/L1 # since we don't have the factor of 1/2 in objective, need that here!\n",
        "stepsize2 = .5/L2\n",
        "\n",
        "trueX1    = torch.linalg.lstsq(A1,b,rcond=None)[0]\n",
        "trueX2    = torch.linalg.lstsq(A2,b,rcond=None)[0]\n",
        "\n",
        "lossHist1, errHist1 = gradient_descent(f1, stepsize1, maxits=1e3, printEvery=50, trueX=trueX1)\n",
        "lossHist2, errHist2 = gradient_descent(f2, stepsize2, maxits=1e3, printEvery=50, trueX=trueX2)\n",
        "\n",
        "\n"
      ]
    },
    {
      "cell_type": "code",
      "execution_count": 33,
      "metadata": {
        "id": "krsi4PPLQ1uH",
        "outputId": "c7693f30-891c-44e9-9dcd-828b504c1320",
        "colab": {
          "base_uri": "https://localhost:8080/",
          "height": 472
        }
      },
      "outputs": [
        {
          "output_type": "display_data",
          "data": {
            "text/plain": [
              "<Figure size 640x480 with 1 Axes>"
            ],
            "image/png": "[encoded data removed]"
          },
          "metadata": {}
        }
      ],
      "source": [
        "plt.semilogy( np.array(lossHist1) - f1(trueX1).item() , label='error in objective function, problem 1')\n",
        "plt.semilogy( np.array(lossHist2) - f2(trueX2).item() , label='error in objective function, problem 2')\n",
        "# plt.semilogy( errHist1, label='error in x, problem 1')\n",
        "# plt.semilogy( errHist2, label='error in x, problem 2')\n",
        "plt.xlabel('Iterations')\n",
        "plt.legend()\n",
        "plt.title('Using our own gradient descent')\n",
        "\n",
        "import platform\n",
        "hostname = platform.node()\n",
        "plt.savefig(f'lab02_gradientDescent_{hostname}.pdf') # PDFs preferred over PNG since they embod fonts rather than rasterize them\n",
        "\n",
        "plt.show()"
      ]
    },
    {
      "cell_type": "markdown",
      "metadata": {
        "id": "wxRC-d4WQ1uH"
      },
      "source": [
        "## Try running one of the prebuilt optimizer classes in PyTorch"
      ]
    },
    {
      "cell_type": "code",
      "source": [
        "def gradient_descent_via_optimizer(f, stepsize, maxits=1e3, printEvery=50, trueX=None):\n",
        "  maxits = int(maxits)\n",
        "  x = torch.zeros( (d,1) , requires_grad=True )  # d is a global variable for now\n",
        "\n",
        "  optimizer = torch.optim.SGD( [x], lr = stepsize )\n",
        "\n",
        "  lossHist = []\n",
        "  errHist  = []\n",
        "  if trueX is not None:\n",
        "    error    = lambda x : torch.linalg.norm(x-trueX)\n",
        "  else:\n",
        "    error    = lambda x : 0\n",
        "\n",
        "  for k in range(maxits):\n",
        "    optimizer.zero_grad()  # important!!\n",
        "\n",
        "    loss = f(x)\n",
        "    lossHist.append( loss.item() )\n",
        "    errHist.append( error(x.data) ) # both x and x.data work\n",
        "    if k % printEvery == 0:\n",
        "        print(f'Iteration {k+1:4d}, objective function is {loss.item():.2e}, error is {error(x.data):.2e}')\n",
        "\n",
        "    loss.backward()\n",
        "    optimizer.step()  # this does the update on x for us\n",
        "\n",
        "  return lossHist, errHist"
      ],
      "metadata": {
        "id": "gsRX_wPURGuU"
      },
      "execution_count": 28,
      "outputs": []
    },
    {
      "cell_type": "code",
      "source": [
        "lossHist1, errHist1 = gradient_descent_via_optimizer(f1, stepsize1, maxits=1e3, printEvery=50, trueX=trueX1)\n",
        "lossHist2, errHist2 = gradient_descent_via_optimizer(f2, stepsize2, maxits=1e3, printEvery=50, trueX=trueX2)"
      ],
      "metadata": {
        "id": "wX02th5cRV7-",
        "outputId": "124bd097-fe0b-4d43-9950-06f5f878735a",
        "colab": {
          "base_uri": "https://localhost:8080/"
        }
      },
      "execution_count": 29,
      "outputs": [
        {
          "output_type": "stream",
          "name": "stdout",
          "text": [
            "Iteration    1, objective function is 9.89e+02, error is 1.05e+00\n",
            "Iteration   51, objective function is 4.41e+02, error is 7.05e-02\n",
            "Iteration  101, objective function is 4.41e+02, error is 1.03e-02\n",
            "Iteration  151, objective function is 4.41e+02, error is 1.70e-03\n",
            "Iteration  201, objective function is 4.41e+02, error is 2.94e-04\n",
            "Iteration  251, objective function is 4.41e+02, error is 5.26e-05\n",
            "Iteration  301, objective function is 4.41e+02, error is 9.58e-06\n",
            "Iteration  351, objective function is 4.41e+02, error is 1.86e-06\n",
            "Iteration  401, objective function is 4.41e+02, error is 9.19e-07\n",
            "Iteration  451, objective function is 4.41e+02, error is 8.41e-07\n",
            "Iteration  501, objective function is 4.41e+02, error is 8.46e-07\n",
            "Iteration  551, objective function is 4.41e+02, error is 8.41e-07\n",
            "Iteration  601, objective function is 4.41e+02, error is 8.45e-07\n",
            "Iteration  651, objective function is 4.41e+02, error is 8.43e-07\n",
            "Iteration  701, objective function is 4.41e+02, error is 8.59e-07\n",
            "Iteration  751, objective function is 4.41e+02, error is 8.43e-07\n",
            "Iteration  801, objective function is 4.41e+02, error is 8.58e-07\n",
            "Iteration  851, objective function is 4.41e+02, error is 8.62e-07\n",
            "Iteration  901, objective function is 4.41e+02, error is 8.45e-07\n",
            "Iteration  951, objective function is 4.41e+02, error is 8.44e-07\n",
            "Iteration    1, objective function is 9.89e+02, error is 6.44e+00\n",
            "Iteration   51, objective function is 5.05e+02, error is 6.32e+00\n",
            "Iteration  101, objective function is 4.84e+02, error is 6.27e+00\n",
            "Iteration  151, objective function is 4.76e+02, error is 6.23e+00\n",
            "Iteration  201, objective function is 4.72e+02, error is 6.20e+00\n",
            "Iteration  251, objective function is 4.69e+02, error is 6.17e+00\n",
            "Iteration  301, objective function is 4.67e+02, error is 6.15e+00\n",
            "Iteration  351, objective function is 4.66e+02, error is 6.12e+00\n",
            "Iteration  401, objective function is 4.65e+02, error is 6.10e+00\n",
            "Iteration  451, objective function is 4.64e+02, error is 6.07e+00\n",
            "Iteration  501, objective function is 4.63e+02, error is 6.05e+00\n",
            "Iteration  551, objective function is 4.62e+02, error is 6.03e+00\n",
            "Iteration  601, objective function is 4.62e+02, error is 6.01e+00\n",
            "Iteration  651, objective function is 4.61e+02, error is 5.99e+00\n",
            "Iteration  701, objective function is 4.60e+02, error is 5.97e+00\n",
            "Iteration  751, objective function is 4.60e+02, error is 5.95e+00\n",
            "Iteration  801, objective function is 4.60e+02, error is 5.93e+00\n",
            "Iteration  851, objective function is 4.59e+02, error is 5.91e+00\n",
            "Iteration  901, objective function is 4.59e+02, error is 5.89e+00\n",
            "Iteration  951, objective function is 4.58e+02, error is 5.88e+00\n"
          ]
        }
      ]
    },
    {
      "cell_type": "code",
      "source": [
        "plt.semilogy( np.array(lossHist1) - f1(trueX1).item() , label='error in objective function, problem 1')\n",
        "plt.semilogy( np.array(lossHist2) - f2(trueX2).item() , label='error in objective function, problem 2')\n",
        "# plt.semilogy( errHist1, label='error in x, problem 1')\n",
        "# plt.semilogy( errHist2, label='error in x, problem 2')\n",
        "plt.xlabel('Iterations')\n",
        "plt.legend()\n",
        "plt.title('Using our own gradient descent')\n",
        "plt.show()"
      ],
      "metadata": {
        "id": "VfBVI9s2RcAW",
        "outputId": "b1195e9d-f149-417f-b299-8a3a23f085aa",
        "colab": {
          "base_uri": "https://localhost:8080/",
          "height": 472
        }
      },
      "execution_count": 30,
      "outputs": [
        {
          "output_type": "display_data",
          "data": {
            "text/plain": [
              "<Figure size 640x480 with 1 Axes>"
            ],
            "image/png": "[encoded data removed]"
          },
          "metadata": {}
        }
      ]
    },
    {
      "cell_type": "markdown",
      "source": [
        "### Variant: use LBFGS optimizer\n",
        "Requires a slightly different format"
      ],
      "metadata": {
        "id": "98zjuMxvRgkv"
      }
    },
    {
      "cell_type": "code",
      "execution_count": 32,
      "metadata": {
        "id": "z5adPw2uQ1uI",
        "outputId": "c7eeb26e-3fdb-4017-a13e-baf6341132fa",
        "colab": {
          "base_uri": "https://localhost:8080/",
          "height": 1000
        }
      },
      "outputs": [
        {
          "output_type": "stream",
          "name": "stdout",
          "text": [
            "Iteration    1, objective function is 9.89e+02, error is 1.05e+00\n",
            "Iteration    1, objective function is 9.89e+02, error is 1.05e+00\n",
            "Iteration    1, objective function is 9.87e+02, error is 1.04e+00\n",
            "Iteration    1, objective function is 9.86e+02, error is 1.04e+00\n",
            "Iteration    1, objective function is 9.84e+02, error is 1.04e+00\n",
            "Iteration    1, objective function is 9.82e+02, error is 1.04e+00\n",
            "Iteration    1, objective function is 9.80e+02, error is 1.04e+00\n",
            "Iteration    1, objective function is 9.78e+02, error is 1.04e+00\n",
            "Iteration    1, objective function is 9.77e+02, error is 1.04e+00\n",
            "Iteration    1, objective function is 9.75e+02, error is 1.03e+00\n",
            "Iteration    1, objective function is 9.73e+02, error is 1.03e+00\n",
            "Iteration    1, objective function is 9.71e+02, error is 1.03e+00\n",
            "Iteration    1, objective function is 9.69e+02, error is 1.03e+00\n",
            "Iteration    1, objective function is 9.67e+02, error is 1.03e+00\n",
            "Iteration    1, objective function is 9.66e+02, error is 1.03e+00\n",
            "Iteration    1, objective function is 9.64e+02, error is 1.02e+00\n",
            "Iteration    1, objective function is 9.62e+02, error is 1.02e+00\n",
            "Iteration    1, objective function is 9.60e+02, error is 1.02e+00\n",
            "Iteration    1, objective function is 9.58e+02, error is 1.02e+00\n",
            "Iteration    1, objective function is 9.56e+02, error is 1.02e+00\n",
            "Iteration   51, objective function is 4.57e+02, error is 1.79e-01\n",
            "Iteration   51, objective function is 4.57e+02, error is 1.79e-01\n",
            "Iteration   51, objective function is 4.57e+02, error is 1.79e-01\n",
            "Iteration   51, objective function is 4.57e+02, error is 1.78e-01\n",
            "Iteration   51, objective function is 4.57e+02, error is 1.78e-01\n",
            "Iteration   51, objective function is 4.56e+02, error is 1.78e-01\n",
            "Iteration   51, objective function is 4.56e+02, error is 1.77e-01\n",
            "Iteration   51, objective function is 4.56e+02, error is 1.77e-01\n",
            "Iteration   51, objective function is 4.56e+02, error is 1.77e-01\n",
            "Iteration   51, objective function is 4.56e+02, error is 1.76e-01\n",
            "Iteration   51, objective function is 4.56e+02, error is 1.76e-01\n",
            "Iteration   51, objective function is 4.56e+02, error is 1.76e-01\n",
            "Iteration   51, objective function is 4.56e+02, error is 1.75e-01\n",
            "Iteration   51, objective function is 4.56e+02, error is 1.75e-01\n",
            "Iteration   51, objective function is 4.56e+02, error is 1.75e-01\n",
            "Iteration   51, objective function is 4.56e+02, error is 1.75e-01\n",
            "Iteration   51, objective function is 4.56e+02, error is 1.74e-01\n",
            "Iteration   51, objective function is 4.56e+02, error is 1.74e-01\n",
            "Iteration   51, objective function is 4.56e+02, error is 1.74e-01\n",
            "Iteration   51, objective function is 4.56e+02, error is 1.73e-01\n",
            "Iteration  101, objective function is 4.41e+02, error is 3.05e-02\n",
            "Iteration  101, objective function is 4.41e+02, error is 3.04e-02\n",
            "Iteration  101, objective function is 4.41e+02, error is 3.04e-02\n",
            "Iteration  101, objective function is 4.41e+02, error is 3.03e-02\n",
            "Iteration  101, objective function is 4.41e+02, error is 3.03e-02\n",
            "Iteration  101, objective function is 4.41e+02, error is 3.02e-02\n",
            "Iteration  101, objective function is 4.41e+02, error is 3.02e-02\n",
            "Iteration  101, objective function is 4.41e+02, error is 3.01e-02\n",
            "Iteration  101, objective function is 4.41e+02, error is 3.01e-02\n",
            "Iteration  101, objective function is 4.41e+02, error is 3.00e-02\n",
            "Iteration  101, objective function is 4.41e+02, error is 3.00e-02\n",
            "Iteration  101, objective function is 4.41e+02, error is 2.99e-02\n",
            "Iteration  101, objective function is 4.41e+02, error is 2.99e-02\n",
            "Iteration  101, objective function is 4.41e+02, error is 2.98e-02\n",
            "Iteration  101, objective function is 4.41e+02, error is 2.97e-02\n",
            "Iteration  101, objective function is 4.41e+02, error is 2.97e-02\n",
            "Iteration  101, objective function is 4.41e+02, error is 2.96e-02\n",
            "Iteration  101, objective function is 4.41e+02, error is 2.96e-02\n",
            "Iteration  101, objective function is 4.41e+02, error is 2.95e-02\n",
            "Iteration  101, objective function is 4.41e+02, error is 2.95e-02\n"
          ]
        },
        {
          "output_type": "error",
          "ename": "KeyboardInterrupt",
          "evalue": "",
          "traceback": [
            "\u001b[0;31m---------------------------------------------------------------------------\u001b[0m",
            "\u001b[0;31mKeyboardInterrupt\u001b[0m                         Traceback (most recent call last)",
            "\u001b[0;32m<ipython-input-32-640dff1d7dd9>\u001b[0m in \u001b[0;36m<cell line: 13>\u001b[0;34m()\u001b[0m\n\u001b[1;32m     24\u001b[0m         \u001b[0;32mreturn\u001b[0m \u001b[0mloss\u001b[0m\u001b[0;34m\u001b[0m\u001b[0;34m\u001b[0m\u001b[0m\n\u001b[1;32m     25\u001b[0m \u001b[0;34m\u001b[0m\u001b[0m\n\u001b[0;32m---> 26\u001b[0;31m     \u001b[0moptimizer\u001b[0m\u001b[0;34m.\u001b[0m\u001b[0mstep\u001b[0m\u001b[0;34m(\u001b[0m\u001b[0mclosure\u001b[0m\u001b[0;34m)\u001b[0m\u001b[0;34m\u001b[0m\u001b[0;34m\u001b[0m\u001b[0m\n\u001b[0m\u001b[1;32m     27\u001b[0m \u001b[0;34m\u001b[0m\u001b[0m\n\u001b[1;32m     28\u001b[0m \u001b[0;34m\u001b[0m\u001b[0m\n",
            "\u001b[0;32m/usr/local/lib/python3.10/dist-packages/torch/optim/optimizer.py\u001b[0m in \u001b[0;36mwrapper\u001b[0;34m(*args, **kwargs)\u001b[0m\n\u001b[1;32m    482\u001b[0m                             )\n\u001b[1;32m    483\u001b[0m \u001b[0;34m\u001b[0m\u001b[0m\n\u001b[0;32m--> 484\u001b[0;31m                 \u001b[0mout\u001b[0m \u001b[0;34m=\u001b[0m \u001b[0mfunc\u001b[0m\u001b[0;34m(\u001b[0m\u001b[0;34m*\u001b[0m\u001b[0margs\u001b[0m\u001b[0;34m,\u001b[0m \u001b[0;34m**\u001b[0m\u001b[0mkwargs\u001b[0m\u001b[0;34m)\u001b[0m\u001b[0;34m\u001b[0m\u001b[0;34m\u001b[0m\u001b[0m\n\u001b[0m\u001b[1;32m    485\u001b[0m                 \u001b[0mself\u001b[0m\u001b[0;34m.\u001b[0m\u001b[0m_optimizer_step_code\u001b[0m\u001b[0;34m(\u001b[0m\u001b[0;34m)\u001b[0m\u001b[0;34m\u001b[0m\u001b[0;34m\u001b[0m\u001b[0m\n\u001b[1;32m    486\u001b[0m \u001b[0;34m\u001b[0m\u001b[0m\n",
            "\u001b[0;32m/usr/local/lib/python3.10/dist-packages/torch/utils/_contextlib.py\u001b[0m in \u001b[0;36mdecorate_context\u001b[0;34m(*args, **kwargs)\u001b[0m\n\u001b[1;32m    114\u001b[0m     \u001b[0;32mdef\u001b[0m \u001b[0mdecorate_context\u001b[0m\u001b[0;34m(\u001b[0m\u001b[0;34m*\u001b[0m\u001b[0margs\u001b[0m\u001b[0;34m,\u001b[0m \u001b[0;34m**\u001b[0m\u001b[0mkwargs\u001b[0m\u001b[0;34m)\u001b[0m\u001b[0;34m:\u001b[0m\u001b[0;34m\u001b[0m\u001b[0;34m\u001b[0m\u001b[0m\n\u001b[1;32m    115\u001b[0m         \u001b[0;32mwith\u001b[0m \u001b[0mctx_factory\u001b[0m\u001b[0;34m(\u001b[0m\u001b[0;34m)\u001b[0m\u001b[0;34m:\u001b[0m\u001b[0;34m\u001b[0m\u001b[0;34m\u001b[0m\u001b[0m\n\u001b[0;32m--> 116\u001b[0;31m             \u001b[0;32mreturn\u001b[0m \u001b[0mfunc\u001b[0m\u001b[0;34m(\u001b[0m\u001b[0;34m*\u001b[0m\u001b[0margs\u001b[0m\u001b[0;34m,\u001b[0m \u001b[0;34m**\u001b[0m\u001b[0mkwargs\u001b[0m\u001b[0;34m)\u001b[0m\u001b[0;34m\u001b[0m\u001b[0;34m\u001b[0m\u001b[0m\n\u001b[0m\u001b[1;32m    117\u001b[0m \u001b[0;34m\u001b[0m\u001b[0m\n\u001b[1;32m    118\u001b[0m     \u001b[0;32mreturn\u001b[0m \u001b[0mdecorate_context\u001b[0m\u001b[0;34m\u001b[0m\u001b[0;34m\u001b[0m\u001b[0m\n",
            "\u001b[0;32m/usr/local/lib/python3.10/dist-packages/torch/optim/lbfgs.py\u001b[0m in \u001b[0;36mstep\u001b[0;34m(self, closure)\u001b[0m\n\u001b[1;32m    392\u001b[0m                 \u001b[0;32mfor\u001b[0m \u001b[0mi\u001b[0m \u001b[0;32min\u001b[0m \u001b[0mrange\u001b[0m\u001b[0;34m(\u001b[0m\u001b[0mnum_old\u001b[0m \u001b[0;34m-\u001b[0m \u001b[0;36m1\u001b[0m\u001b[0;34m,\u001b[0m \u001b[0;34m-\u001b[0m\u001b[0;36m1\u001b[0m\u001b[0;34m,\u001b[0m \u001b[0;34m-\u001b[0m\u001b[0;36m1\u001b[0m\u001b[0;34m)\u001b[0m\u001b[0;34m:\u001b[0m\u001b[0;34m\u001b[0m\u001b[0;34m\u001b[0m\u001b[0m\n\u001b[1;32m    393\u001b[0m                     \u001b[0mal\u001b[0m\u001b[0;34m[\u001b[0m\u001b[0mi\u001b[0m\u001b[0;34m]\u001b[0m \u001b[0;34m=\u001b[0m \u001b[0mold_stps\u001b[0m\u001b[0;34m[\u001b[0m\u001b[0mi\u001b[0m\u001b[0;34m]\u001b[0m\u001b[0;34m.\u001b[0m\u001b[0mdot\u001b[0m\u001b[0;34m(\u001b[0m\u001b[0mq\u001b[0m\u001b[0;34m)\u001b[0m \u001b[0;34m*\u001b[0m \u001b[0mro\u001b[0m\u001b[0;34m[\u001b[0m\u001b[0mi\u001b[0m\u001b[0;34m]\u001b[0m\u001b[0;34m\u001b[0m\u001b[0;34m\u001b[0m\u001b[0m\n\u001b[0;32m--> 394\u001b[0;31m                     \u001b[0mq\u001b[0m\u001b[0;34m.\u001b[0m\u001b[0madd_\u001b[0m\u001b[0;34m(\u001b[0m\u001b[0mold_dirs\u001b[0m\u001b[0;34m[\u001b[0m\u001b[0mi\u001b[0m\u001b[0;34m]\u001b[0m\u001b[0;34m,\u001b[0m \u001b[0malpha\u001b[0m\u001b[0;34m=\u001b[0m\u001b[0;34m-\u001b[0m\u001b[0mal\u001b[0m\u001b[0;34m[\u001b[0m\u001b[0mi\u001b[0m\u001b[0;34m]\u001b[0m\u001b[0;34m)\u001b[0m\u001b[0;34m\u001b[0m\u001b[0;34m\u001b[0m\u001b[0m\n\u001b[0m\u001b[1;32m    395\u001b[0m \u001b[0;34m\u001b[0m\u001b[0m\n\u001b[1;32m    396\u001b[0m                 \u001b[0;31m# multiply by initial Hessian\u001b[0m\u001b[0;34m\u001b[0m\u001b[0;34m\u001b[0m\u001b[0m\n",
            "\u001b[0;31mKeyboardInterrupt\u001b[0m: "
          ]
        }
      ],
      "source": [
        "x = torch.zeros( (d,1) , requires_grad=True )\n",
        "\n",
        "f = f1\n",
        "error = lambda x : torch.linalg.norm(x-trueX1)\n",
        "stepsize = stepsize1*10 # be aggressive\n",
        "\n",
        "optimizer = torch.optim.LBFGS( [x], lr = stepsize) # LBFGS needs a closure\n",
        "lossHist = []\n",
        "errHist  = []\n",
        "printEvery = 50\n",
        "maxits   = int(1e3)\n",
        "\n",
        "for k in range(maxits):\n",
        "    def closure():\n",
        "        # LBFGS needs this; see https://stackoverflow.com/a/58059762\n",
        "        loss = f(x)\n",
        "        lossHist.append( loss.item() )\n",
        "        errHist.append( error(x.data) ) # both x and x.data work\n",
        "        if k % printEvery == 0:\n",
        "            print(f'Iteration {k+1:4d}, objective function is {loss.item():.2e}, error is {error(x.data):.2e}')\n",
        "\n",
        "        optimizer.zero_grad()\n",
        "        loss.backward()\n",
        "        return loss\n",
        "\n",
        "    optimizer.step(closure)\n",
        "\n",
        "\n",
        "plt.semilogy( np.array(lossHist) - f(trueX).item() , label='error in objective function')\n",
        "plt.semilogy( errHist, label='error in x')\n",
        "plt.xlabel('Iterations')\n",
        "plt.legend()\n",
        "plt.title('Using torch.optim.LBFGS')\n",
        "plt.show()"
      ]
    },
    {
      "cell_type": "code",
      "execution_count": null,
      "metadata": {
        "id": "CmziV4pBQ1uI"
      },
      "outputs": [],
      "source": []
    }
  ],
  "metadata": {
    "kernelspec": {
      "display_name": "pytorch_env",
      "language": "python",
      "name": "python3"
    },
    "language_info": {
      "codemirror_mode": {
        "name": "ipython",
        "version": 3
      },
      "file_extension": ".py",
      "mimetype": "text/x-python",
      "name": "python",
      "nbconvert_exporter": "python",
      "pygments_lexer": "ipython3",
      "version": "3.11.9"
    },
    "colab": {
      "provenance": [],
      "toc_visible": true,
      "include_colab_link": true
    }
  },
  "nbformat": 4,
  "nbformat_minor": 0
}
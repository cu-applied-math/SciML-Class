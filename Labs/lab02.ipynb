{
  "cells": [
    {
      "cell_type": "markdown",
      "metadata": {
        "id": "view-in-github",
        "colab_type": "text"
      },
      "source": [
        "<a href=\"https://colab.research.google.com/github/cu-applied-math/SciML-Class/blob/main/Labs/lab02.ipynb\" target=\"_parent\"><img src=\"https://colab.research.google.com/assets/colab-badge.svg\" alt=\"Open In Colab\"/></a>"
      ]
    },
    {
      "cell_type": "markdown",
      "metadata": {
        "id": "zMpr9s0IQ1uD"
      },
      "source": [
        "# Lab 2 template\n",
        "Write a gradient descent code in PyTorch to minimize a least-squares objective"
      ]
    },
    {
      "cell_type": "code",
      "execution_count": 1,
      "metadata": {
        "id": "DxJplQS_Q1uE",
        "outputId": "ade11606-85b9-4761-95c5-1fbde339232e",
        "colab": {
          "base_uri": "https://localhost:8080/"
        }
      },
      "outputs": [
        {
          "output_type": "stream",
          "name": "stdout",
          "text": [
            "Torch version is 2.4.0+cu121\n",
            "Numpy version is 1.26.4\n",
            "Python version is 3.10.12 (main, Jul 29 2024, 16:56:48) [GCC 11.4.0]\n"
          ]
        }
      ],
      "source": [
        "# https://pytorch.org/tutorials/beginner/examples_autograd/polynomial_custom_function.html\n",
        "# also looking at https://pytorch.org/tutorials/beginner/introyt/autogradyt_tutorial.html\n",
        "# and https://machinelearningmastery.com/implementing-gradient-descent-in-pytorch/ for simple way to do it\n",
        "\n",
        "import torch\n",
        "import matplotlib.pyplot as plt\n",
        "# import matplotlib.ticker as ticker\n",
        "# import math\n",
        "import sys\n",
        "import numpy as np\n",
        "print(\"Torch version is\", torch.__version__)\n",
        "print(\"Numpy version is\", np.__version__)\n",
        "print(\"Python version is\", sys.version)"
      ]
    },
    {
      "cell_type": "markdown",
      "metadata": {
        "id": "Q-V8yJG-Q1uF"
      },
      "source": [
        "## Setup the function"
      ]
    },
    {
      "cell_type": "code",
      "execution_count": 34,
      "metadata": {
        "id": "ziTpKB0oQ1uG",
        "colab": {
          "base_uri": "https://localhost:8080/"
        },
        "outputId": "0f7d3b2d-6271-442f-e37e-7de06534f988"
      },
      "outputs": [
        {
          "output_type": "stream",
          "name": "stdout",
          "text": [
            "For problem 1, condition number is 5.56e+00\n",
            "For problem 2, condition number is 1.08e+07\n"
          ]
        }
      ],
      "source": [
        "n = int(1e3)\n",
        "d = 500\n",
        "G = torch.randn( (n,d) )  # requires_grad=False is implicit\n",
        "Gtilde = torch.roll(G,1,dims=1)\n",
        "A1 = G.detach()\n",
        "A2 = G.detach() + (1-1e-7)*Gtilde.detach()\n",
        "print(f'For problem 1, condition number is {torch.linalg.cond(A1).item():.2e}')\n",
        "print(f'For problem 2, condition number is {torch.linalg.cond(A2).item():.2e}')\n",
        "b = torch.randn( (n,1) )\n",
        "\n",
        "def f1(x):\n",
        "    return torch.linalg.norm( A1 @ x - b )**2\n",
        "\n",
        "def f2(x):\n",
        "    return torch.linalg.norm( A2 @ x - b )**2"
      ]
    }
  ],
  "metadata": {
    "kernelspec": {
      "display_name": "pytorch_env",
      "language": "python",
      "name": "python3"
    },
    "language_info": {
      "codemirror_mode": {
        "name": "ipython",
        "version": 3
      },
      "file_extension": ".py",
      "mimetype": "text/x-python",
      "name": "python",
      "nbconvert_exporter": "python",
      "pygments_lexer": "ipython3",
      "version": "3.11.9"
    },
    "colab": {
      "provenance": [],
      "include_colab_link": true
    }
  },
  "nbformat": 4,
  "nbformat_minor": 0
}
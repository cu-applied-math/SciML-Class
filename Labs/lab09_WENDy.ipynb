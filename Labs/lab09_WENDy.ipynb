{
  "nbformat": 4,
  "nbformat_minor": 0,
  "metadata": {
    "colab": {
      "provenance": [],
      "authorship_tag": "ABX9TyP2JtehpBjd7aMI3N4oL5Dw",
      "include_colab_link": true
    },
    "kernelspec": {
      "name": "python3",
      "display_name": "Python 3"
    },
    "language_info": {
      "name": "python"
    }
  },
  "cells": [
    {
      "cell_type": "markdown",
      "metadata": {
        "id": "view-in-github",
        "colab_type": "text"
      },
      "source": [
        "<a href=\"https://colab.research.google.com/github/cu-applied-math/SciML-Class/blob/main/Labs/lab09_WENDy.ipynb\" target=\"_parent\"><img src=\"https://colab.research.google.com/assets/colab-badge.svg\" alt=\"Open In Colab\"/></a>"
      ]
    },
    {
      "cell_type": "markdown",
      "source": [
        "# Lab 9: data-driven system identification\n",
        "We'll take the same setup as lab 8, looking at the logistic differential equation\n",
        "$$dy/dt = \\theta y \\left( 1 - y/k \\right)$$\n",
        "for a carrying capacity $k=10$, initial condition $y(0) = y_0 = 1$, and an **unknown** growth rate $\\theta$.\n",
        "\n",
        "We assume that we have some (slightly noisy) observations $\\{(t_i,y(t_i))\\}_{i=1}^n$ of the true solution. From these observations, the goal is to estimate the growth rate $\\theta$."
      ],
      "metadata": {
        "id": "99LKnxyteyyc"
      }
    },
    {
      "cell_type": "code",
      "execution_count": 2,
      "metadata": {
        "id": "V7i0YdcLPfgY"
      },
      "outputs": [],
      "source": [
        "import numpy as np\n",
        "from matplotlib import pyplot as plt\n",
        "from numpy.linalg import norm\n",
        "from scipy.integrate import solve_ivp, trapezoid\n",
        "\n",
        "import jax\n",
        "jax.config.update(\"jax_enable_x64\", True)\n",
        "import numpy as np\n",
        "import jax.numpy as jnp"
      ]
    },
    {
      "cell_type": "markdown",
      "source": [
        "## Part 1: generate the data\n",
        "Solve the logistic ODE on the domain $[0,T=3]$ using $y_0=1$, $k=10$ and $\\theta=\\pi$.\n",
        "\n",
        "From the solution collect `n_obs=21` observations $\\{(t_i,y(t_i))\\}_{i=1}^{n_\\text{obs}}$ from an equispaced time grid (later you can try adjusting `n_obs` to smaller/larger values), and add some Gaussian noise of standard deviation $0.01$ (again, later you can try adjusting the amount of noise)"
      ],
      "metadata": {
        "id": "92SeP9NTSkuo"
      }
    },
    {
      "cell_type": "code",
      "source": [
        "rng = np.random.default_rng(123456)\n",
        "karryingKapacity = 10 # carrying capacity, a fixed parameter\n",
        "\n",
        "def f(t,y,theta):\n",
        "    \"\"\" Logistic equation right-hand-side\n",
        "    dy/dt = theta y (1-y/k),  y(t) is the population, theta is growth rate parameter, k is karrying kapacity\n",
        "    \"\"\"\n",
        "    return theta*y*(1.-y/karryingKapacity)\n",
        "\n",
        "y0 = 1. # Starting value\n",
        "\n",
        "theta_true = np.pi # true value... (different than last week)\n",
        "theta = theta_true\n",
        "\n",
        "T  = 3.\n",
        "t_span = (0,T)\n",
        "\n",
        "soln = solve_ivp( ... TODO ... )\n",
        "\n",
        "n_obs = 21\n",
        "t_obs = np.linspace(0,T,n_obs)\n",
        "y_obs = ... TODO ...\n",
        "# add a small amount of noise\n",
        "sigma = 0.01\n",
        "y_obs = y_obs + sigma*rng.standard_normal(y_obs.shape)\n",
        "\n",
        "# Plot the solution if you want..."
      ],
      "metadata": {
        "id": "_BGHnLCSPxBi"
      },
      "execution_count": null,
      "outputs": []
    },
    {
      "cell_type": "markdown",
      "source": [
        "## Part 2: solve with SINDy\n",
        "\n",
        "[Sparse identification of non-linear dynamics](https://en.wikipedia.org/wiki/Sparse_identification_of_non-linear_dynamics) (\"SINDy\") is one of several methods that estimates an equation from data, i.e., to estimate $y' = f(t,y)$.  You give it a dictionary of candidate terms that will comprise the RHS $f$ and it will estimate which ones are \"active\" (the \"sparse\" part) and then find their coefficient.\n",
        "\n",
        "We'll do a simplified setting: we know that $f(t,y)$ is of the form $y(1-y/k)$ but we just don't know the coefficient. So the idea is very simple: collect observations $y'(t_i)$ and RHS $y(t_i)(1-y(t_i)/k)$ for $\\{t_i\\}_{i=1}^{n_\\text{obs}}$ and then do a least-squares regression.\n",
        "\n",
        "The only issue is how do we know $y'(t_i)$ given that our data is $\\{(t_i,y(t_i))\\}_{i=1}^{n_\\text{obs}}$?\n",
        "\n",
        "The quick-and-dirty answer is to approximate it with finite differences.\n",
        "\n",
        "## Part 2a: write a finite difference routine\n",
        "Give a data vector of equally spaced points $y(t_i)$, and a spacing parameter $\\Delta t$ (where $t_i = \\Delta t + t_{i-1}$), right a routine that returns a finite difference approximation of $dy/dt$ at these same time points.\n",
        "\n",
        "You can do a simple version (forward finite differences) or something higher order like centered differences (see my [Ch4_FiniteDifference Notes](https://github.com/stephenbeckr/numerical-analysis-class/blob/master/Notes/Ch4_FiniteDifferences_more.pdf) from undergrad numerical analysis for ideas on how to handle the first/last node)\n",
        "\n",
        "You can test your code because in our academic setting we actually know $y'$ (since we know the ODE exactly!)"
      ],
      "metadata": {
        "id": "S9QKg2BwgBqE"
      }
    },
    {
      "cell_type": "code",
      "source": [
        "def myFiniteDifferences(y,dt):\n",
        "    \"\"\" finite difference approximation of derivative from discrete points y(t)\n",
        "    \"\"\"\n",
        "    # TODO: implement this yourself\n",
        "    raise NotImplementedError\n",
        "\n",
        "# Helper function for later\n",
        "def myLeastSquares(A,b):\n",
        "    return np.linalg.lstsq(A.reshape(-1,1),b,rcond=None)[0][0]"
      ],
      "metadata": {
        "id": "YAxw4A2WTCH6"
      },
      "execution_count": 12,
      "outputs": []
    },
    {
      "cell_type": "code",
      "source": [
        "# Is the finite difference a good approximation? We know the true derivative, so we can check\n",
        "dt = t_obs[1]-t_obs[0]\n",
        "\n",
        "approx_dydt = myFiniteDifferences(y_obs,dt)\n",
        "true_dydt  = f(t_obs,y_obs,theta_true)\n",
        "\n",
        "approx_dydt - true_dydt"
      ],
      "metadata": {
        "id": "D6GM5KGOiSgu"
      },
      "execution_count": null,
      "outputs": []
    },
    {
      "cell_type": "markdown",
      "source": [
        "## Part 2b: find the coefficient, SINDy style\n",
        "\n",
        "Now regress, and find the coefficient. Compare it to the true coefficient"
      ],
      "metadata": {
        "id": "qGJ0MhxQQ5N5"
      }
    },
    {
      "cell_type": "code",
      "source": [
        "dydt = myFiniteDifferences(y_obs,dt)\n",
        "\n",
        "# Regress dydt = theta*y*(1-y/k)\n",
        "A   = ... TODO ...\n",
        "theta_SINDy = myLeastSquares(A,dydt)\n",
        "\n",
        "print(f'Using {len(t_obs)} points, {theta_SINDy=:.6f} while {theta_true=:.6f}')\n",
        "print(f'Noise was {sigma=:.3f}')"
      ],
      "metadata": {
        "id": "uRRDT8DKQ64D"
      },
      "execution_count": null,
      "outputs": []
    },
    {
      "cell_type": "markdown",
      "source": [
        "## Part 2: Weak form (WENDy style)\n",
        "An alternative approach to avoid the finite difference calculation (since that won't be accurate if $\\Delta t$ is large or if there is a lot of noise $\\sigma$) is to use the weak form.  In the case of just estimating a coefficient, this is described in the \"WENDy\" paper [Direct Estimation of Parameters in ODE Models Using WENDy: Weak-form Estimation of Nonlinear Dynamics](https://arxiv.org/abs/2302.13271) 2023 by CU Applied Math dept authors David Bortz, Daniel A. Messenger, Vanja Dukic.\n",
        "\n",
        "The main idea is that we will create a library of test functions $\\{\\varphi_j\\}_{j=1}^{n_\\text{test}}$ that are smooth and vanish on the boundaries of the interval $[0,T]$ and do a lot of integration by parts.  We defin the inner product $\\langle f, g \\rangle := \\int_0^T f(t) g(t)dt$, so the integration-by-parts trick is that\n",
        "$$ \\langle \\varphi, y' \\rangle := \\int_0^T \\varphi(t)y'(t)dt\n",
        "= \\varphi(t)y(t)\\Big|_{t=0}^T - \\int_0^T \\varphi'(t)y(t)dt = -\\langle \\varphi', y\\rangle.\n",
        "$$\n",
        "\n",
        "So consider the ODE $y' = \\theta y (1-y/k)$. Then it's also true that for every test function,\n",
        "$$\\langle \\varphi, y'\\rangle = \\theta \\langle \\varphi, y(1-y/k)\\rangle$$\n",
        "so using our integration-by-parts trick, this means\n",
        "$$-\\langle \\varphi', y\\rangle = \\theta \\langle \\varphi, y(1-y/k)\\rangle.$$\n",
        "\n",
        "We choose $\\varphi$ (e.g., with a formula) so we know $\\varphi'$ (we'll use `jax`'s autodiff). We then need to estimate these **integrals** from the data instead of estimating **derivatives**.  We can use a default quadrature routine for the integrals, e.g., `scipy.integrate.trapezoid`.\n",
        "\n",
        "So now we do this for a few test functions $\\varphi_j$ and then solve a least-squares equation to estimate $\\theta$.\n",
        "\n",
        "We'll do some simple test functions; see the WENDy paper for more advanced ideas (and efficient implementations with the FFT)"
      ],
      "metadata": {
        "id": "gVhXC1LSRePP"
      }
    },
    {
      "cell_type": "code",
      "source": [
        "def phi(t,mode):\n",
        "    \"\"\" mode>0 an integer \"\"\"\n",
        "    return jnp.sin(mode*jnp.pi*t/T)\n",
        "dphi  = jax.vmap(jax.grad(phi,argnums=0), in_axes=(0,None))\n",
        "\n",
        "\n",
        "mode = 4\n",
        "tGrid = jnp.linspace(0,T,100)\n",
        "plt.plot( tGrid, phi(tGrid,mode), label=f'test function #{mode}' )\n",
        "plt.plot( tGrid, dphi(tGrid,mode),'--', label='derivative of test function' )\n",
        "plt.legend()\n",
        "plt.show()"
      ],
      "metadata": {
        "colab": {
          "base_uri": "https://localhost:8080/",
          "height": 430
        },
        "id": "UQw2N_urRURy",
        "outputId": "2df7e836-fbd3-4848-b385-9a759c5b7d4c"
      },
      "execution_count": 6,
      "outputs": [
        {
          "output_type": "display_data",
          "data": {
            "text/plain": [
              "<Figure size 640x480 with 1 Axes>"
            ],
            "image/png": "[encoded data removed]"
          },
          "metadata": {}
        }
      ]
    },
    {
      "cell_type": "markdown",
      "source": [
        "## Part 2a: integrals\n",
        "For any test function $\\varphi$,\n",
        "1. estimate $\\langle \\varphi, y'\\rangle$ using the data.  (We don't directly have data for $y'$, but for now you can cheat and use the fact that we know the ODE exactly)\n",
        "2. estimate -$\\langle \\varphi', y\\rangle$ using the data (this we **can** do from the data directly).\n",
        "3. are the above two quantities about the same?\n",
        "\n",
        "Use `trapezoid` for the [quadrature](https://en.wikipedia.org/wiki/Numerical_integration)"
      ],
      "metadata": {
        "id": "r5Muc7sTln0z"
      }
    },
    {
      "cell_type": "code",
      "source": [
        "mode = 4\n",
        "\n",
        "lhs = phi(t_obs,mode)\n",
        "rhs = ... ? ...   # the true derivative (cheating)\n",
        "integral_1 = trapezoid( lhs * rhs, t_obs)\n",
        "\n",
        "lhs = ... ? ...\n",
        "rhs = ... ? ...\n",
        "integral_2 = ... ? ...\n",
        "\n",
        "print(f'{integral_1=:.3f}')\n",
        "print(f'{integral_2=:.3f}')"
      ],
      "metadata": {
        "id": "8Z6Y9FKumaQY"
      },
      "execution_count": null,
      "outputs": []
    },
    {
      "cell_type": "markdown",
      "source": [
        "## Part 2b: solve for $\\theta$ via the WENDy approach"
      ],
      "metadata": {
        "id": "QH6SShLOmHVF"
      }
    },
    {
      "cell_type": "code",
      "source": [
        "# Setup WENDy\n",
        "modeList = np.arange(1,19 ) # choose modes 1 -- 18\n",
        "A   = np.zeros( (len(modeList),1))\n",
        "RHS = np.zeros( len(modeList) )\n",
        "for (i,mode) in enumerate(modeList):\n",
        "    RHS[i] = ... ? ...\n",
        "    A[i]   = ... ? ...\n",
        "\n",
        "theta_WENDy = myLeastSquares(A,RHS)\n",
        "\n",
        "print(f'Using {len(t_obs)} points, ...')\n",
        "print(f' {theta_SINDy=:.6f}')\n",
        "print(f' {theta_WENDy=:.6f}')\n",
        "print(f'  {theta_true=:.6f}')\n",
        "print(f'Noise was {sigma=:.3f}')"
      ],
      "metadata": {
        "id": "nSwBMXonRwYN"
      },
      "execution_count": null,
      "outputs": []
    },
    {
      "cell_type": "code",
      "source": [],
      "metadata": {
        "id": "GTyIDNijR4rh"
      },
      "execution_count": 19,
      "outputs": []
    }
  ]
}
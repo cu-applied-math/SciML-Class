{
  "nbformat": 4,
  "nbformat_minor": 0,
  "metadata": {
    "colab": {
      "provenance": [],
      "gpuType": "T4",
      "authorship_tag": "ABX9TyNR4EdJL+vfc1zxwd9huwPR",
      "include_colab_link": true
    },
    "kernelspec": {
      "name": "python3",
      "display_name": "Python 3"
    },
    "language_info": {
      "name": "python"
    },
    "accelerator": "GPU"
  },
  "cells": [
    {
      "cell_type": "markdown",
      "metadata": {
        "id": "view-in-github",
        "colab_type": "text"
      },
      "source": [
        "<a href=\"https://colab.research.google.com/github/cu-applied-math/SciML-Class/blob/main/Labs/lab12_diffusion_models.ipynb\" target=\"_parent\"><img src=\"https://colab.research.google.com/assets/colab-badge.svg\" alt=\"Open In Colab\"/></a>"
      ]
    },
    {
      "cell_type": "markdown",
      "source": [
        "# Lab 12: diffusion models\n",
        "\n",
        "We're going to look at diffusion models, using the new hugging face [`diffusion` package](https://pypi.org/project/diffusers/)\n",
        "\n",
        "This wraps many variants of diffusion models, such as the `DDPM` pipline (after the influential [Denoising Diffusion Probabilistic Models](https://proceedings.neurips.cc/paper_files/paper/2020/file/4c5bcfec8584af0d967f1ab10179ca4b-Paper.pdf) Ho et al. NeurIPS 2020 paper), as well as `DDIM`, `PNDM` and `PNDM`\n",
        "\n",
        "Your task for this lab is to generate a sequence of images that start with a random normal 256 x 256 image and ends up with a celebrity face.\n",
        "\n",
        "I **highly** suggest you follow the tutorial at https://colab.research.google.com/github/huggingface/notebooks/blob/main/diffusers/diffusers_intro.ipynb\n",
        "\n",
        "**Deliverable** for Canvas:\n",
        "- turn in a PDF of your notebook, showing some images, starting with random noise and ending up with a celebrity"
      ],
      "metadata": {
        "id": "iB8kbvehzHez"
      }
    },
    {
      "cell_type": "code",
      "source": [
        "import PIL.Image\n",
        "import numpy as np\n",
        "import torch\n",
        "import tqdm\n",
        "\n",
        "device = torch.device('cuda' if torch.cuda.is_available() else 'cpu')\n",
        "if torch.cuda.is_available():\n",
        "    print('using GPU')\n",
        "\n",
        "def display_sample(sample, i):\n",
        "    image_processed = sample.cpu().permute(0, 2, 3, 1)\n",
        "    image_processed = (image_processed + 1.0) * 127.5\n",
        "    image_processed = image_processed.numpy().astype(np.uint8)\n",
        "\n",
        "    image_pil = PIL.Image.fromarray(image_processed[0])\n",
        "    display(f\"Image at step {i}\")\n",
        "    display(image_pil)\n",
        "\n",
        "# from https://pypi.org/project/diffusers/\n",
        "# !pip install diffusers  # (if not installed, but it is pre-installed on colab)\n",
        "\n",
        "from diffusers import UNet2DModel\n",
        "\n",
        "# ... whatever else you want ..."
      ],
      "metadata": {
        "id": "WdHFBWNJzqNQ"
      },
      "execution_count": null,
      "outputs": []
    },
    {
      "cell_type": "code",
      "source": [
        "# ... your code goes here ..."
      ],
      "metadata": {
        "id": "5Qtsqp7r4AiR"
      },
      "execution_count": 15,
      "outputs": []
    }
  ]
}